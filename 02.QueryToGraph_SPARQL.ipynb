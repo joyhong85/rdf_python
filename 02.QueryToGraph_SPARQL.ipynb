{
 "cells": [
  {
   "cell_type": "markdown",
   "id": "38060670",
   "metadata": {},
   "source": [
    "<center><span style=\"color:blue\"><font size=\"6\">Graph내에서 탐색 및 SPARQL 사용</font></span></center>  \n",
    "  \n",
    "<p>파일로 존재하는 RDF데이터를 로딩하여 그래프에 담은 뒤, 그래프 내에서 여러가지 탐색을 사용해 본다.<p>\n",
    "그래프에 담긴 데이터를 SPARQL을 사용하여 질의하여 결과를 도출해 본다.<p>\n",
    "\n",
    "\n",
    "<div align=\"right\">\n",
    "    작성자 : 허홍수<br>\n",
    "    e-mail : su4620@gmail.com<br>\n",
    "    blog : http://joyhong.tistory.com<br>\n",
    "</div>  "
   ]
  },
  {
   "cell_type": "markdown",
   "id": "7b0b2eed",
   "metadata": {},
   "source": [
    "# 탐색\n"
   ]
  },
  {
   "cell_type": "markdown",
   "id": "28f080a2",
   "metadata": {},
   "source": [
    "## 파일 로딩"
   ]
  },
  {
   "cell_type": "code",
   "execution_count": 1,
   "id": "44796680",
   "metadata": {
    "ExecuteTime": {
     "end_time": "2021-09-08T15:22:12.966524Z",
     "start_time": "2021-09-08T15:22:12.255923Z"
    }
   },
   "outputs": [
    {
     "data": {
      "text/plain": [
       "<Graph identifier=N28525a3444ce4433bbb77add0b79773d (<class 'rdflib.graph.Graph'>)>"
      ]
     },
     "execution_count": 1,
     "metadata": {},
     "output_type": "execute_result"
    }
   ],
   "source": [
    "from rdflib import Graph, RDF, URIRef\n",
    "\n",
    "g = Graph()\n",
    "g.parse(\"./sample_result.ttl\", format='turtle')"
   ]
  },
  {
   "cell_type": "markdown",
   "id": "b9e3f0df",
   "metadata": {},
   "source": [
    "## 그래프에 담긴 트리플 수"
   ]
  },
  {
   "cell_type": "code",
   "execution_count": 2,
   "id": "a8ec51cf",
   "metadata": {
    "ExecuteTime": {
     "end_time": "2021-09-08T15:22:12.971190Z",
     "start_time": "2021-09-08T15:22:12.968525Z"
    }
   },
   "outputs": [
    {
     "data": {
      "text/plain": [
       "5678"
      ]
     },
     "execution_count": 2,
     "metadata": {},
     "output_type": "execute_result"
    }
   ],
   "source": [
    "len(g)"
   ]
  },
  {
   "cell_type": "markdown",
   "id": "53d42a7c",
   "metadata": {},
   "source": [
    "## 그래프 내 데이터 탐색"
   ]
  },
  {
   "cell_type": "code",
   "execution_count": 3,
   "id": "4dc8daca",
   "metadata": {
    "ExecuteTime": {
     "end_time": "2021-09-08T15:22:12.989781Z",
     "start_time": "2021-09-08T15:22:12.973303Z"
    }
   },
   "outputs": [
    {
     "name": "stdout",
     "output_type": "stream",
     "text": [
      "http://joyhong.tistory.com/resource/h_146 \thttp://xmlns.com/foaf/0.1/homepage \thttp://www.hanseohospital.or.kr\n",
      "http://joyhong.tistory.com/resource/geo_h128 \thttp://schema.org/longitude \t126.899838\n",
      "http://joyhong.tistory.com/resource/h_73 \thttp://joyhong.tistory.com/ontology/totalNumberOfDoctor \t23\n",
      "http://joyhong.tistory.com/resource/rg_360500 \thttp://www.w3.org/2000/01/rdf-schema#label \t여수시\n",
      "http://joyhong.tistory.com/resource/rg_340012 \thttp://www.w3.org/2004/02/skos/core#prefLabel \t예산군\n",
      "http://joyhong.tistory.com/resource/geo_h13 \thttp://schema.org/latitude \t35.12019\n",
      "http://joyhong.tistory.com/resource/h_241 \thttp://xmlns.com/foaf/0.1/page \thttp://www.hira.or.kr/re/diag/getDiagAmtInfo.do?ykiho=JDQ4MTYyMiM4MSMkMSMkOCMkODkkMzgxMzUxIzExIyQxIyQzIyQ4OSQzNjE4MzIjNDEjJDEjJDgjJDgz\n",
      "http://joyhong.tistory.com/resource/h_271 \thttp://schema.org/geo \thttp://joyhong.tistory.com/resource/geo_h271\n",
      "http://joyhong.tistory.com/resource/geo_h16 \thttp://schema.org/postalCode \t6351\n",
      "http://joyhong.tistory.com/resource/geo_h79 \thttp://schema.org/postalCode \t49267\n"
     ]
    }
   ],
   "source": [
    "# for s, p, o in g:   # 전체\n",
    "for s, p, o in list(g)[:10]: # 처음 10개만\n",
    "    print(f\"{s} \\t{p} \\t{o}\")"
   ]
  },
  {
   "cell_type": "markdown",
   "id": "5b6ba235",
   "metadata": {},
   "source": [
    "## predicate가 rdf:type인 트리플들만 탐색"
   ]
  },
  {
   "cell_type": "code",
   "execution_count": 4,
   "id": "a28f3759",
   "metadata": {
    "ExecuteTime": {
     "end_time": "2021-09-08T15:22:12.997808Z",
     "start_time": "2021-09-08T15:22:12.991956Z"
    }
   },
   "outputs": [
    {
     "name": "stdout",
     "output_type": "stream",
     "text": [
      "http://joyhong.tistory.com/resource/h_109 \thttp://www.w3.org/1999/02/22-rdf-syntax-ns#type \thttp://schema.org/Hospital\n",
      "http://joyhong.tistory.com/resource/h_104 \thttp://www.w3.org/1999/02/22-rdf-syntax-ns#type \thttp://schema.org/Hospital\n",
      "http://joyhong.tistory.com/resource/h_249 \thttp://www.w3.org/1999/02/22-rdf-syntax-ns#type \thttp://schema.org/Hospital\n",
      "http://joyhong.tistory.com/resource/h_157 \thttp://www.w3.org/1999/02/22-rdf-syntax-ns#type \thttp://schema.org/Hospital\n",
      "http://joyhong.tistory.com/resource/h_94 \thttp://www.w3.org/1999/02/22-rdf-syntax-ns#type \thttp://schema.org/Hospital\n",
      "http://joyhong.tistory.com/resource/h_190 \thttp://www.w3.org/1999/02/22-rdf-syntax-ns#type \thttp://schema.org/Hospital\n",
      "http://joyhong.tistory.com/resource/rg_110024 \thttp://www.w3.org/1999/02/22-rdf-syntax-ns#type \thttp://www.w3.org/2004/02/skos/core#Concept\n",
      "http://joyhong.tistory.com/resource/rg_311800 \thttp://www.w3.org/1999/02/22-rdf-syntax-ns#type \thttp://www.w3.org/2004/02/skos/core#Concept\n",
      "http://joyhong.tistory.com/resource/h_108 \thttp://www.w3.org/1999/02/22-rdf-syntax-ns#type \thttp://schema.org/Hospital\n",
      "http://joyhong.tistory.com/resource/h_172 \thttp://www.w3.org/1999/02/22-rdf-syntax-ns#type \thttp://schema.org/Hospital\n"
     ]
    }
   ],
   "source": [
    "for s, p, o in list(g.triples((None, RDF.type, None)))[:10]:\n",
    "    print(f\"{s} \\t{p} \\t{o}\")"
   ]
  },
  {
   "cell_type": "markdown",
   "id": "4a36a34c",
   "metadata": {},
   "source": [
    "## 여러 가지 탐색 방식"
   ]
  },
  {
   "cell_type": "markdown",
   "id": "875b67ec",
   "metadata": {},
   "source": [
    "### 주어부 탐색 - 술어가 rdf:type 이고, 목적어는 아무거나(None)"
   ]
  },
  {
   "cell_type": "code",
   "execution_count": 5,
   "id": "462f7233",
   "metadata": {
    "ExecuteTime": {
     "end_time": "2021-09-08T15:22:13.004469Z",
     "start_time": "2021-09-08T15:22:13.000111Z"
    }
   },
   "outputs": [
    {
     "name": "stdout",
     "output_type": "stream",
     "text": [
      "http://joyhong.tistory.com/resource/h_109\n",
      "http://joyhong.tistory.com/resource/h_104\n",
      "http://joyhong.tistory.com/resource/h_249\n",
      "http://joyhong.tistory.com/resource/h_157\n",
      "http://joyhong.tistory.com/resource/h_94\n",
      "http://joyhong.tistory.com/resource/h_190\n",
      "http://joyhong.tistory.com/resource/rg_110024\n",
      "http://joyhong.tistory.com/resource/rg_311800\n",
      "http://joyhong.tistory.com/resource/h_108\n",
      "http://joyhong.tistory.com/resource/h_172\n"
     ]
    }
   ],
   "source": [
    "for _type in list(g.subjects(RDF.type, None))[:10]:\n",
    "    print(_type)"
   ]
  },
  {
   "cell_type": "markdown",
   "id": "4fecb0e9",
   "metadata": {},
   "source": [
    "### 술어부 탐색 - 주어가 <http://joyhong.tistory.com/resource/h_272> 이고, 목적어는 무관"
   ]
  },
  {
   "cell_type": "code",
   "execution_count": 6,
   "id": "04c3bb99",
   "metadata": {
    "ExecuteTime": {
     "end_time": "2021-09-08T15:22:13.009703Z",
     "start_time": "2021-09-08T15:22:13.007152Z"
    }
   },
   "outputs": [],
   "source": [
    "subject = URIRef('http://joyhong.tistory.com/resource/h_272')"
   ]
  },
  {
   "cell_type": "code",
   "execution_count": 7,
   "id": "521cf063",
   "metadata": {
    "ExecuteTime": {
     "end_time": "2021-09-08T15:22:13.017194Z",
     "start_time": "2021-09-08T15:22:13.014266Z"
    }
   },
   "outputs": [
    {
     "name": "stdout",
     "output_type": "stream",
     "text": [
      "http://joyhong.tistory.com/ontology/openedDate\n",
      "http://schema.org/telephone\n",
      "http://purl.org/dc/terms/subject\n",
      "http://purl.org/dc/terms/subject\n",
      "http://purl.org/dc/terms/identifier\n",
      "http://joyhong.tistory.com/ontology/totalNumberOfDoctor\n",
      "http://schema.org/geo\n",
      "http://www.w3.org/1999/02/22-rdf-syntax-ns#type\n",
      "http://xmlns.com/foaf/0.1/homepage\n",
      "http://purl.org/dc/terms/subject\n",
      "http://www.w3.org/2000/01/rdf-schema#label\n",
      "http://xmlns.com/foaf/0.1/page\n"
     ]
    }
   ],
   "source": [
    "for _pred in g.predicates(subject, None):\n",
    "    print(_pred)"
   ]
  },
  {
   "cell_type": "markdown",
   "id": "4e944d70",
   "metadata": {},
   "source": [
    "### 목적어 탐색"
   ]
  },
  {
   "cell_type": "code",
   "execution_count": 8,
   "id": "73714119",
   "metadata": {
    "ExecuteTime": {
     "end_time": "2021-09-08T15:22:13.022848Z",
     "start_time": "2021-09-08T15:22:13.020050Z"
    }
   },
   "outputs": [
    {
     "name": "stdout",
     "output_type": "stream",
     "text": [
      "2002-05-13\n",
      "031-999-1000\n",
      "http://joyhong.tistory.com/resource/rg_310000\n",
      "http://joyhong.tistory.com/resource/cat_11\n",
      "JDQ4MTYyMiM1MSMkMSMkMCMkODkkMzgxMzUxIzExIyQxIyQ3IyQ3OSQ0NjE0ODEjODEjJDEjJDYjJDgz\n",
      "83\n",
      "http://joyhong.tistory.com/resource/geo_h272\n",
      "http://schema.org/Hospital\n",
      "http://www.gwhospital.co.kr/\n",
      "http://joyhong.tistory.com/resource/rg_312300\n",
      "의료법인우리의료재단김포우리병원\n",
      "http://www.hira.or.kr/re/diag/getDiagAmtInfo.do?ykiho=JDQ4MTYyMiM1MSMkMSMkMCMkODkkMzgxMzUxIzExIyQxIyQ3IyQ3OSQ0NjE0ODEjODEjJDEjJDYjJDgz\n"
     ]
    }
   ],
   "source": [
    "for _obj in g.objects(subject, None):\n",
    "    print(_obj)"
   ]
  },
  {
   "cell_type": "markdown",
   "id": "3a581049",
   "metadata": {},
   "source": [
    "## 목적어가 URIRef인 리소스인 경우 그 목적어를 주어로 하고 있는 모든 트리플 탐색"
   ]
  },
  {
   "cell_type": "code",
   "execution_count": 9,
   "id": "cc7ea5c0",
   "metadata": {
    "ExecuteTime": {
     "end_time": "2021-09-08T15:22:13.029362Z",
     "start_time": "2021-09-08T15:22:13.024858Z"
    },
    "scrolled": true
   },
   "outputs": [
    {
     "name": "stdout",
     "output_type": "stream",
     "text": [
      "http://joyhong.tistory.com/resource/h_78 \thttp://joyhong.tistory.com/ontology/openedDate \t2019-03-29\n",
      "http://joyhong.tistory.com/resource/h_78 \thttp://www.w3.org/2000/01/rdf-schema#label \t계명대학교대구동산병원\n",
      "http://joyhong.tistory.com/resource/h_78 \thttp://joyhong.tistory.com/ontology/totalNumberOfDoctor \t35\n",
      "http://joyhong.tistory.com/resource/h_78 \thttp://xmlns.com/foaf/0.1/page \thttp://www.hira.or.kr/re/diag/getDiagAmtInfo.do?ykiho=JDQ4MTYyMiM4MSMkMSMkMCMkODkkMzgxMzUxIzExIyQxIyQzIyQ3MiQzNjEwMDIjNjEjJDEjJDgjJDgz\n",
      "http://joyhong.tistory.com/resource/h_78 \thttp://www.w3.org/1999/02/22-rdf-syntax-ns#type \thttp://schema.org/Hospital\n",
      "http://joyhong.tistory.com/resource/h_78 \thttp://purl.org/dc/terms/subject \thttp://joyhong.tistory.com/resource/rg_230006\n",
      "http://joyhong.tistory.com/resource/rg_230006 \thttp://www.w3.org/2000/01/rdf-schema#label \t대구중구\n",
      "http://joyhong.tistory.com/resource/rg_230006 \thttp://www.w3.org/1999/02/22-rdf-syntax-ns#type \thttp://www.w3.org/2004/02/skos/core#Concept\n",
      "http://joyhong.tistory.com/resource/rg_230006 \thttp://www.w3.org/2004/02/skos/core#broader \thttp://joyhong.tistory.com/resource/rg_230000\n",
      "http://joyhong.tistory.com/resource/rg_230006 \thttp://www.w3.org/2004/02/skos/core#prefLabel \t대구중구\n",
      "http://joyhong.tistory.com/resource/rg_230006 \thttp://purl.org/dc/terms/identifier \t230006\n",
      "http://joyhong.tistory.com/resource/h_78 \thttp://purl.org/dc/terms/subject \thttp://joyhong.tistory.com/resource/rg_230000\n",
      "http://joyhong.tistory.com/resource/rg_230000 \thttp://www.w3.org/2004/02/skos/core#narrower \thttp://joyhong.tistory.com/resource/rg_230004\n",
      "http://joyhong.tistory.com/resource/rg_230000 \thttp://www.w3.org/2000/01/rdf-schema#label \t대구\n",
      "http://joyhong.tistory.com/resource/rg_230000 \thttp://www.w3.org/2004/02/skos/core#narrower \thttp://joyhong.tistory.com/resource/rg_230002\n",
      "http://joyhong.tistory.com/resource/rg_230000 \thttp://www.w3.org/2004/02/skos/core#narrower \thttp://joyhong.tistory.com/resource/rg_230006\n",
      "http://joyhong.tistory.com/resource/rg_230000 \thttp://www.w3.org/1999/02/22-rdf-syntax-ns#type \thttp://www.w3.org/2004/02/skos/core#Concept\n",
      "http://joyhong.tistory.com/resource/rg_230000 \thttp://www.w3.org/2004/02/skos/core#narrower \thttp://joyhong.tistory.com/resource/rg_230001\n",
      "http://joyhong.tistory.com/resource/rg_230000 \thttp://www.w3.org/2004/02/skos/core#narrower \thttp://joyhong.tistory.com/resource/rg_230005\n",
      "http://joyhong.tistory.com/resource/rg_230000 \thttp://purl.org/dc/terms/identifier \t230000\n",
      "http://joyhong.tistory.com/resource/rg_230000 \thttp://www.w3.org/2004/02/skos/core#narrower \thttp://joyhong.tistory.com/resource/rg_230007\n",
      "http://joyhong.tistory.com/resource/rg_230000 \thttp://www.w3.org/2004/02/skos/core#prefLabel \t대구\n",
      "http://joyhong.tistory.com/resource/rg_230000 \thttp://www.w3.org/2004/02/skos/core#narrower \thttp://joyhong.tistory.com/resource/rg_230003\n",
      "http://joyhong.tistory.com/resource/h_78 \thttp://schema.org/geo \thttp://joyhong.tistory.com/resource/geo_h78\n",
      "http://joyhong.tistory.com/resource/geo_h78 \thttp://schema.org/longitude \t128.5831323\n",
      "http://joyhong.tistory.com/resource/geo_h78 \thttp://schema.org/postalCode \t41931\n",
      "http://joyhong.tistory.com/resource/geo_h78 \thttp://schema.org/latitude \t35.8694728\n",
      "http://joyhong.tistory.com/resource/geo_h78 \thttp://schema.org/address \t대구광역시 중구 달성로 56 계명대학교대구동산병원 (동산동)\n",
      "http://joyhong.tistory.com/resource/h_78 \thttp://schema.org/telephone \t053-250-8013\n",
      "http://joyhong.tistory.com/resource/h_78 \thttp://purl.org/dc/terms/subject \thttp://joyhong.tistory.com/resource/cat_11\n",
      "http://joyhong.tistory.com/resource/cat_11 \thttp://www.w3.org/2004/02/skos/core#prefLabel \t종합병원\n",
      "http://joyhong.tistory.com/resource/cat_11 \thttp://www.w3.org/1999/02/22-rdf-syntax-ns#type \thttp://www.w3.org/2004/02/skos/core#Concept\n",
      "http://joyhong.tistory.com/resource/cat_11 \thttp://www.w3.org/2000/01/rdf-schema#label \t종합병원\n",
      "http://joyhong.tistory.com/resource/cat_11 \thttp://purl.org/dc/terms/identifier \t11\n",
      "http://joyhong.tistory.com/resource/h_78 \thttp://purl.org/dc/terms/identifier \tJDQ4MTYyMiM4MSMkMSMkMCMkODkkMzgxMzUxIzExIyQxIyQzIyQ3MiQzNjEwMDIjNjEjJDEjJDgjJDgz\n"
     ]
    }
   ],
   "source": [
    "for s, p, o in list(g.triples((URIRef('http://joyhong.tistory.com/resource/h_78'), None, None))):\n",
    "    print(f\"{s} \\t{p} \\t{o}\")\n",
    "    if type(o)==URIRef:\n",
    "        for ss, pp, oo in g.triples((o, None, None)):\n",
    "            print(f\"{ss} \\t{pp} \\t{oo}\")\n",
    "        "
   ]
  },
  {
   "cell_type": "markdown",
   "id": "f308f6f2",
   "metadata": {},
   "source": [
    "# SPARQL"
   ]
  },
  {
   "cell_type": "markdown",
   "id": "0e4eed57",
   "metadata": {},
   "source": [
    "## SELECT 질의"
   ]
  },
  {
   "cell_type": "code",
   "execution_count": 10,
   "id": "695e594a",
   "metadata": {
    "ExecuteTime": {
     "end_time": "2021-09-08T15:22:14.121648Z",
     "start_time": "2021-09-08T15:22:13.031312Z"
    }
   },
   "outputs": [
    {
     "name": "stdout",
     "output_type": "stream",
     "text": [
      "http://joyhong.tistory.com/resource/h_146\thttp://xmlns.com/foaf/0.1/homepage\thttp://www.hanseohospital.or.kr\n",
      "http://joyhong.tistory.com/resource/geo_h128\thttp://schema.org/longitude\t126.899838\n",
      "http://joyhong.tistory.com/resource/h_73\thttp://joyhong.tistory.com/ontology/totalNumberOfDoctor\t23\n",
      "http://joyhong.tistory.com/resource/rg_360500\thttp://www.w3.org/2000/01/rdf-schema#label\t여수시\n",
      "http://joyhong.tistory.com/resource/rg_340012\thttp://www.w3.org/2004/02/skos/core#prefLabel\t예산군\n",
      "http://joyhong.tistory.com/resource/geo_h13\thttp://schema.org/latitude\t35.12019\n",
      "http://joyhong.tistory.com/resource/h_241\thttp://xmlns.com/foaf/0.1/page\thttp://www.hira.or.kr/re/diag/getDiagAmtInfo.do?ykiho=JDQ4MTYyMiM4MSMkMSMkOCMkODkkMzgxMzUxIzExIyQxIyQzIyQ4OSQzNjE4MzIjNDEjJDEjJDgjJDgz\n",
      "http://joyhong.tistory.com/resource/h_271\thttp://schema.org/geo\thttp://joyhong.tistory.com/resource/geo_h271\n",
      "http://joyhong.tistory.com/resource/geo_h16\thttp://schema.org/postalCode\t6351\n",
      "http://joyhong.tistory.com/resource/geo_h79\thttp://schema.org/postalCode\t49267\n"
     ]
    }
   ],
   "source": [
    "qres = g.query(\"\"\"\n",
    "    SELECT ?s ?p ?o \n",
    "    WHERE { \n",
    "        ?s ?p ?o .\n",
    "    } LIMIT 10\n",
    "\"\"\")\n",
    "for row in qres:\n",
    "    print(f\"{row[0]}\\t{row[1]}\\t{row[2]}\")"
   ]
  },
  {
   "cell_type": "code",
   "execution_count": 11,
   "id": "f9a58ec8",
   "metadata": {
    "ExecuteTime": {
     "end_time": "2021-09-08T15:22:14.180088Z",
     "start_time": "2021-09-08T15:22:14.123667Z"
    },
    "scrolled": true
   },
   "outputs": [
    {
     "name": "stdout",
     "output_type": "stream",
     "text": [
      "http://eunyang.imc-boram.co.kr/\thttp://joyhong.tistory.com/resource/h_158\t서울산보람병원\n",
      "http://www.brmh.org\thttp://joyhong.tistory.com/resource/h_162\t서울특별시보라매병원\n",
      "http://www.seoulmc.or.kr\thttp://joyhong.tistory.com/resource/h_164\t서울특별시서울의료원\n",
      "http://www.snuh.org\thttp://joyhong.tistory.com/resource/h_17\t서울대학교병원\n",
      "http://www.symcs.co.kr\thttp://joyhong.tistory.com/resource/h_150\t삼육서울병원\n",
      "http://www.schmc.ac.kr/seoul/kor/index.do\thttp://joyhong.tistory.com/resource/h_177\t순천향대학교 부속 서울병원\n",
      "http://www.amc.seoul.kr\thttp://joyhong.tistory.com/resource/h_30\t재단법인아산사회복지재단 서울아산병원\n",
      "http://www.paik.ac.kr/seoul/\thttp://joyhong.tistory.com/resource/h_295\t인제대학교 서울백병원\n",
      "http://www.srch.or.kr\thttp://joyhong.tistory.com/resource/h_160\t서울적십자병원\n",
      "http://www.snubh.org/index.do\thttp://joyhong.tistory.com/resource/h_15\t분당서울대학교병원\n",
      "http://www.seoulhp.co.kr/\thttp://joyhong.tistory.com/resource/h_238\t의료법인 자산의료재단 제천서울병원\n",
      "http://www.sshosp.co.kr\thttp://joyhong.tistory.com/resource/h_159\t서울성심병원\n",
      "http://www.samsunghospital.com\thttp://joyhong.tistory.com/resource/h_16\t삼성서울병원\n",
      "http://www.dbhosp.go.kr\thttp://joyhong.tistory.com/resource/h_161\t서울특별시 동부병원\n",
      "http://www.cmcseoul.or.kr/\thttp://joyhong.tistory.com/resource/h_40\t학교법인가톨릭학원가톨릭대학교서울성모병원\n"
     ]
    }
   ],
   "source": [
    "qres = g.query(\"\"\"\n",
    "    PREFIX rdfs: <http://www.w3.org/2000/01/rdf-schema#>\n",
    "    PREFIX foaf: <http://xmlns.com/foaf/0.1/>\n",
    "    SELECT *\n",
    "    WHERE {\n",
    "      ?subject rdfs:label ?label.\n",
    "      ?subject foaf:homepage ?homepage.\n",
    "      filter(regex(?label, \"서울\", \"i\" )) \n",
    "    }\n",
    "\"\"\")\n",
    "for row in qres:\n",
    "    print(f\"{row[0]}\\t{row[1]}\\t{row[2]}\")"
   ]
  },
  {
   "cell_type": "markdown",
   "id": "55731fd0",
   "metadata": {},
   "source": [
    "## ASK 질의"
   ]
  },
  {
   "cell_type": "code",
   "execution_count": 12,
   "id": "4f819286",
   "metadata": {
    "ExecuteTime": {
     "end_time": "2021-09-08T15:22:14.186065Z",
     "start_time": "2021-09-08T15:22:14.181813Z"
    }
   },
   "outputs": [
    {
     "name": "stdout",
     "output_type": "stream",
     "text": [
      "True\n"
     ]
    }
   ],
   "source": [
    "qres = g.query(\"\"\"\n",
    "    ASK {<http://joyhong.tistory.com/resource/h_273> ?p ?po}\n",
    "\"\"\")\n",
    "# for row in qres:\n",
    "print(bool(qres))"
   ]
  },
  {
   "cell_type": "markdown",
   "id": "4e2bb238",
   "metadata": {},
   "source": [
    "## SPARQL 로 특정 병원 찾은 후 홈페이지 열기"
   ]
  },
  {
   "cell_type": "code",
   "execution_count": 13,
   "id": "a6821c97",
   "metadata": {
    "ExecuteTime": {
     "end_time": "2021-09-08T15:22:14.190802Z",
     "start_time": "2021-09-08T15:22:14.188149Z"
    }
   },
   "outputs": [],
   "source": [
    "from IPython.display import IFrame\n",
    "\n",
    "def window_open(url):\n",
    "    IFrame(src=url, width='100%', height='500px')"
   ]
  },
  {
   "cell_type": "code",
   "execution_count": 14,
   "id": "379d19db",
   "metadata": {
    "ExecuteTime": {
     "end_time": "2021-09-08T15:22:14.202862Z",
     "start_time": "2021-09-08T15:22:14.193185Z"
    }
   },
   "outputs": [
    {
     "data": {
      "text/html": [
       "\n",
       "        <iframe\n",
       "            width=\"100%\"\n",
       "            height=\"500px\"\n",
       "            src=\"http://www.hira.or.kr/re/diag/getDiagAmtInfo.do?ykiho=JDQ4MTg4MSM1MSMkMSMkMCMkODkkMzgxMzUxIzExIyQxIyQzIyQxMyQzNjEwMDIjODEjJDEjJDIjJDgz\"\n",
       "            frameborder=\"0\"\n",
       "            allowfullscreen\n",
       "        ></iframe>\n",
       "        "
      ],
      "text/plain": [
       "<IPython.lib.display.IFrame at 0x7f9af77898b0>"
      ]
     },
     "execution_count": 14,
     "metadata": {},
     "output_type": "execute_result"
    }
   ],
   "source": [
    "qres = g.query(\"\"\"\n",
    "    PREFIX rdfs: <http://www.w3.org/2000/01/rdf-schema#>\n",
    "    PREFIX foaf: <http://xmlns.com/foaf/0.1/>\n",
    "    SELECT ?page\n",
    "    WHERE {\n",
    "      ?subject rdfs:label '삼성서울병원'.\n",
    "      ?subject foaf:page ?page.\n",
    "    }\n",
    "\"\"\")\n",
    "\n",
    "for row in qres:\n",
    "    url = row[0]\n",
    "\n",
    "IFrame(src=url, width='100%', height='500px')"
   ]
  },
  {
   "cell_type": "code",
   "execution_count": null,
   "id": "0b0b3298",
   "metadata": {},
   "outputs": [],
   "source": []
  }
 ],
 "metadata": {
  "kernelspec": {
   "display_name": "rdf",
   "language": "python",
   "name": "rdf"
  },
  "language_info": {
   "codemirror_mode": {
    "name": "ipython",
    "version": 3
   },
   "file_extension": ".py",
   "mimetype": "text/x-python",
   "name": "python",
   "nbconvert_exporter": "python",
   "pygments_lexer": "ipython3",
   "version": "3.8.5"
  },
  "toc": {
   "base_numbering": 1,
   "nav_menu": {},
   "number_sections": true,
   "sideBar": true,
   "skip_h1_title": false,
   "title_cell": "Table of Contents",
   "title_sidebar": "Contents",
   "toc_cell": false,
   "toc_position": {},
   "toc_section_display": true,
   "toc_window_display": true
  }
 },
 "nbformat": 4,
 "nbformat_minor": 5
}
