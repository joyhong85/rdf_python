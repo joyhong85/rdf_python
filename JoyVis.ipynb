{
 "cells": [
  {
   "cell_type": "markdown",
   "id": "54b3ece5",
   "metadata": {},
   "source": [
    "# 온톨로지 시각화 도구"
   ]
  },
  {
   "cell_type": "code",
   "execution_count": 1,
   "id": "6fbbb3ed",
   "metadata": {
    "ExecuteTime": {
     "end_time": "2021-09-12T14:41:04.134797Z",
     "start_time": "2021-09-12T14:41:03.076142Z"
    }
   },
   "outputs": [],
   "source": [
    "from pyvis.network import Network\n",
    "import networkx as nx\n",
    "from SPARQLWrapper import SPARQLWrapper, JSON\n",
    "from rdflib import Graph\n",
    "from rdflib.plugins.sparql.results.jsonresults import JSONResultSerializer\n",
    "import json\n",
    "\n",
    "from enum import Enum\n",
    "\n",
    "class ShowLiteral(Enum):\n",
    "    Yes = 0\n",
    "    No = 1\n",
    "    InNode = 2\n",
    "\n",
    "class Vis(object):\n",
    "    \"\"\"\n",
    "    SPARQL Endpoint 과 연동하여 특정 트리플들을 시각화하는 도구,\n",
    "    파일을 읽어 파일의 내용을 시각화할 수도 있다.\n",
    "    \"\"\"\n",
    "    \n",
    "    def __init__(self, endpoint=None, filepath=None, ignore_property=[]):\n",
    "        self.__endpoint = endpoint\n",
    "        self.__filepath = filepath\n",
    "        self.__ignore_property = ignore_property if ignore_property != None else []\n",
    "        self.__sparql = SPARQLWrapper(endpoint)\n",
    "        \n",
    "    \n",
    "    \n",
    "    def __getLocalName(self, node):\n",
    "        if node.find('/') > 0 and node.find('#') > 0:\n",
    "            return node[node.rindex('/')+1:] if node.rindex('/') > node.rindex('#') else node[node.rindex('#')+1:]\n",
    "        elif node.find('/') > 0:\n",
    "            return node[node.rindex('/')+1:]\n",
    "        elif node.find('#') > 0:\n",
    "            return node[node.rindex('#')+1:]\n",
    "        else:\n",
    "            return node\n",
    "    \n",
    "    \n",
    "    def __make_short_name(self, name):\n",
    "        if len(name) > 20 :\n",
    "            name = name[0:20]\n",
    "        return name\n",
    "    \n",
    "    \n",
    "    def setIgnoreProperty(self, ignore_property):\n",
    "        self.__ignore_property = ignore_property\n",
    "\n",
    "        \n",
    "    def __show_graph(self, results, show_literal):\n",
    "        nw = Network(height='800px', width='100%', notebook=True)\n",
    "\n",
    "        node = {}\n",
    "        groups = {}\n",
    "        node_num = 0;\n",
    "        group_num = 0;\n",
    "        edge_list = []\n",
    "        \n",
    "        if show_literal:\n",
    "            groups['literal'] = group_num\n",
    "            group_num += 1\n",
    "            \n",
    "        for result in results[\"results\"][\"bindings\"]:\n",
    "#             print(result[\"s\"][\"value\"], \"\\t\", result[\"p\"][\"value\"], \"\\t\", result[\"o\"][\"value\"])\n",
    "#             print(result)\n",
    "            if not result[\"p\"][\"value\"] in self.__ignore_property:\n",
    "                # 존재하지 않는 경우 디폴트로 처리\n",
    "                if 'slabel' not in result:\n",
    "                    result['slabel'] = {'type': 'literal', 'value': self.__getLocalName(result['s']['value'])}\n",
    "                if 'olabel' not in result:\n",
    "                    result['olabel'] = {'type': 'literal', 'value': self.__getLocalName(result['o']['value'])}\n",
    "                if 'stype' not in result:\n",
    "                    result['stype'] = {'type': 'literal', 'value': ''}\n",
    "                if 'otype' not in result:\n",
    "                    result['otype'] = {'type': 'literal', 'value': ''}\n",
    "\n",
    "                # 노드\n",
    "                if result['s']['type'] == 'uri' and not result['s']['value'] in node: \n",
    "                    node[result['s']['value']] = {'id':node_num}\n",
    "                    node_num += 1\n",
    "\n",
    "                if result['o']['type'] == 'uri' and not result['o']['value'] in node:\n",
    "                    node[result['o']['value']] = {'id':node_num}\n",
    "                    node_num += 1\n",
    "                \n",
    "                \n",
    "                if 'stype'  in result and not result['stype']['value'] in groups:\n",
    "                    groups[result['stype']['value']] = group_num\n",
    "                    group_num += 1\n",
    "                if 'otype'  in result and not result['otype']['value'] in groups:\n",
    "                    groups[result['otype']['value']] = group_num\n",
    "                    group_num += 1\n",
    "\n",
    "                node[result['s']['value']].update({'label':result['slabel']['value'], 'type':result['stype']['value']})\n",
    "                if result['o']['type'] == 'uri':\n",
    "                    node[result['o']['value']].update({'label':result['olabel']['value'], 'type':result['otype']['value']})\n",
    "                    edge_list.append((result['s']['value'], result['o']['value'], result['p']['value']))\n",
    "                \n",
    "                # 리터널도 표시하는 경우\n",
    "                if show_literal == ShowLiteral.Yes:\n",
    "                    if result['o']['type'] == 'literal':\n",
    "                        node[result['o']['value']+str(node_num)] = {'id':node_num}\n",
    "                        node[result['o']['value']+str(node_num)].update({'label':result['o']['value'], 'type':'literal'})\n",
    "                        edge_list.append((result['s']['value'], result['o']['value'], result['p']['value'], result['o']['value']+str(node_num)))\n",
    "                        node_num += 1\n",
    "                \n",
    "                # 노드 안에 넣는 경우\n",
    "                if show_literal == ShowLiteral.InNode:\n",
    "                    if result['o']['type'] == 'literal':\n",
    "                        if 'datatype' in node[result['s']['value']]:\n",
    "                            dt = node[result['s']['value']]['datatype'] + '<br>' + self.__getLocalName(result['p']['value']) + \":\" + result['o']['value']\n",
    "                            node[result['s']['value']].update({'datatype': dt})\n",
    "                        else:\n",
    "                            node[result['s']['value']]['datatype'] = self.__getLocalName(result['p']['value']) + \":\" + result['o']['value']\n",
    "                            node[result['s']['value']].update({'datatype': node[result['s']['value']]['datatype']})\n",
    "                    \n",
    "        for n in node:\n",
    "            if node[n]['type'] == 'literal':\n",
    "                nw.add_node(n, shape='box',label=self.__make_short_name(node[n]['label']), title=node[n]['label'], group=groups[node[n]['type']])\n",
    "            else:\n",
    "                if 'datatype' in node[n]:\n",
    "                    nw.add_node(n, label=self.__make_short_name(node[n]['label']), title=n+\"<br>\"+node[n]['datatype'], group=groups[node[n]['type']])\n",
    "                else:\n",
    "                    nw.add_node(n, label=self.__make_short_name(node[n]['label']), title=n, group=groups[node[n]['type']])\n",
    "        for e in edge_list:\n",
    "            if len(e)==4:\n",
    "                nw.add_edge(e[0], e[3], arrows='to', label=self.__getLocalName(e[2]), title=e[2])\n",
    "            else:\n",
    "                if e[2]=='http://www.w3.org/1999/02/22-rdf-syntax-ns#type':\n",
    "                    nw.add_edge(e[0], e[1], width=4, color='black', arrows='to', label=self.__getLocalName(e[2]), title=e[2])\n",
    "                else:\n",
    "                    nw.add_edge(e[0], e[1], arrows='to', label=self.__getLocalName(e[2]), title=e[2])\n",
    "\n",
    "        nw.set_edge_smooth('dynamic')\n",
    "        nw.show_buttons(filter_=['physics'])\n",
    "\n",
    "        return nw\n",
    "    \n",
    "    \n",
    "    def __run_query(self, query_string, show_literal):\n",
    "        self.__sparql.setQuery(query_string)\n",
    "        self.__sparql.setReturnFormat(JSON)\n",
    "        results = self.__sparql.query().convert()\n",
    "        nw = self.__show_graph(results, show_literal)\n",
    "        return nw\n",
    "\n",
    "\n",
    "    def vis(self, search_keyword : str='', uri: str='', limit: int=500, show_literal: ShowLiteral=ShowLiteral.No):\n",
    "        if limit > 1000:\n",
    "            limit = 1000\n",
    "        \n",
    "        if uri != '':\n",
    "            query_string = \"\"\"\n",
    "                prefix rdfs: <http://www.w3.org/2000/01/rdf-schema#>\n",
    "                SELECT ?s ?p ?o ?slabel ?olabel ?stype ?totype\n",
    "                WHERE {\n",
    "                    {\n",
    "                        filter(?s=<%s>)\n",
    "                        ?s ?p ?o.\n",
    "                        optional{?s rdfs:label ?slabel .}\n",
    "                        optional{?s a ?stype}\n",
    "                        optional{?o rdfs:label ?olabel .}\n",
    "                        optional{?o a ?otype}\n",
    "                      } UNION {\n",
    "                        filter(?o=<%s>)\n",
    "                        ?s ?p ?o.\n",
    "                        optional{?s rdfs:label ?slabel .}\n",
    "                        optional{?s a ?stype}\n",
    "                        optional{?o rdfs:label ?olabel .}\n",
    "                        optional{?o a ?otype}\n",
    "                      }\n",
    "                } LIMIT %i\n",
    "            \"\"\"  % (uri, uri, limit)\n",
    "        elif search_keyword != '':\n",
    "            query_string = \"\"\"\n",
    "                prefix rdfs: <http://www.w3.org/2000/01/rdf-schema#>\n",
    "                SELECT ?s ?p ?o ?slabel ?olabel ?stype ?totype\n",
    "                WHERE {\n",
    "                    ?s ?pp ?oo.\n",
    "                    filter(regex(?oo, '%s'))\n",
    "                    ?s ?p ?o.\n",
    "                    optional{?s rdfs:label ?slabel .}\n",
    "                    optional{?s a ?stype}\n",
    "                    optional{?o rdfs:label ?olabel .}\n",
    "                    optional{?o a ?otype}\n",
    "                } LIMIT %i\n",
    "            \"\"\" % (search_keyword, limit)\n",
    "        else:\n",
    "            query_string = \"\"\"\n",
    "                    prefix rdfs: <http://www.w3.org/2000/01/rdf-schema#>\n",
    "                    SELECT *\n",
    "                    WHERE {\n",
    "                        ?s ?p ?o.\n",
    "                        optional{?s rdfs:label ?slabel .}\n",
    "                        optional{?s a ?stype}\n",
    "                        optional{?o rdfs:label ?olabel .}\n",
    "                        optional{?o a ?otype}\n",
    "                    } LIMIT %i\n",
    "                \"\"\" % limit\n",
    "        \n",
    "        return self.__run_query(query_string, show_literal)\n",
    "\n",
    "    def vis_file(self, uri: str='', show_literal: ShowLiteral=ShowLiteral.Yes):\n",
    "        g = Graph()\n",
    "        g.parse(self.__filepath, format='turtle')\n",
    "        \n",
    "        if uri != '':\n",
    "            qres = g.query(\"\"\"\n",
    "                prefix rdfs: <http://www.w3.org/2000/01/rdf-schema#>\n",
    "                SELECT ?s ?p ?o ?slabel ?olabel ?stype ?totype\n",
    "                WHERE {\n",
    "                    {\n",
    "                        filter(?s=<%s>)\n",
    "                        ?s ?p ?o.\n",
    "                        optional{?s rdfs:label ?slabel .}\n",
    "                        optional{?s a ?stype}\n",
    "                        optional{?o rdfs:label ?olabel .}\n",
    "                        optional{?o a ?otype}\n",
    "                      } UNION {\n",
    "                        filter(?o=<%s>)\n",
    "                        ?s ?p ?o.\n",
    "                        optional{?s rdfs:label ?slabel .}\n",
    "                        optional{?s a ?stype}\n",
    "                        optional{?o rdfs:label ?olabel .}\n",
    "                        optional{?o a ?otype}\n",
    "                      }\n",
    "                }\n",
    "            \"\"\"  % (uri, uri))\n",
    "        else:\n",
    "            qres = g.query(\"\"\"\n",
    "                prefix rdfs: <http://www.w3.org/2000/01/rdf-schema#>\n",
    "                SELECT *\n",
    "                WHERE {\n",
    "                    ?s ?p ?o.\n",
    "                    optional{?s rdfs:label ?slabel .}\n",
    "                    optional{?s a ?stype}\n",
    "                    optional{?o rdfs:label ?olabel .}\n",
    "                    optional{?o a ?otype}\n",
    "                } \n",
    "            \"\"\")\n",
    "        f = open('json_result', 'w')\n",
    "        JSONResultSerializer(qres).serialize(f)\n",
    "        with open('json_result') as f:\n",
    "            read_data = json.load(f)\n",
    "        \n",
    "        nw = self.__show_graph(read_data, show_literal)\n",
    "        return nw\n",
    "    \n"
   ]
  },
  {
   "cell_type": "markdown",
   "id": "027a5326",
   "metadata": {},
   "source": [
    "# SPARQL Endpoint에 대한 사용법"
   ]
  },
  {
   "cell_type": "code",
   "execution_count": 2,
   "id": "6aacaa86",
   "metadata": {
    "ExecuteTime": {
     "end_time": "2021-09-12T14:41:04.139332Z",
     "start_time": "2021-09-12T14:41:04.137209Z"
    }
   },
   "outputs": [],
   "source": [
    "# 객체 생성\n",
    "\n",
    "v = Vis('http://localhost:3030/publicdata/query')"
   ]
  },
  {
   "cell_type": "markdown",
   "id": "83becd5b",
   "metadata": {},
   "source": [
    "리터널값을 보여주는 방식을 3가지로 정의함  \n",
    "1. ShowLiteral.Yes -> 개별 노드로 구성하여 보여준다.  \n",
    "2. ShowLiteral.No -> 보여주지 않는다.(Resource 인 노드들만 시각화 한다.)(default)  \n",
    "3. ShowLiteral.InNode -> 리터널값을 가지는 주어 노드의 툴팁으로 보여준다."
   ]
  },
  {
   "cell_type": "markdown",
   "id": "b2210acc",
   "metadata": {},
   "source": [
    "## 기본 사용"
   ]
  },
  {
   "cell_type": "code",
   "execution_count": 3,
   "id": "58bff36c",
   "metadata": {
    "ExecuteTime": {
     "end_time": "2021-09-12T14:41:04.204242Z",
     "start_time": "2021-09-12T14:41:04.141546Z"
    }
   },
   "outputs": [
    {
     "data": {
      "text/html": [
       "\n",
       "        <iframe\n",
       "            width=\"100%\"\n",
       "            height=\"800px\"\n",
       "            src=\"default1.html\"\n",
       "            frameborder=\"0\"\n",
       "            allowfullscreen\n",
       "        ></iframe>\n",
       "        "
      ],
      "text/plain": [
       "<IPython.lib.display.IFrame at 0x7ff2822bcb20>"
      ]
     },
     "execution_count": 3,
     "metadata": {},
     "output_type": "execute_result"
    }
   ],
   "source": [
    "nw = v.vis(limit=50, show_literal=ShowLiteral.Yes)\n",
    "nw.show('default1.html')"
   ]
  },
  {
   "cell_type": "code",
   "execution_count": 4,
   "id": "b7199994",
   "metadata": {
    "ExecuteTime": {
     "end_time": "2021-09-12T14:41:04.247815Z",
     "start_time": "2021-09-12T14:41:04.206247Z"
    },
    "scrolled": false
   },
   "outputs": [
    {
     "data": {
      "text/html": [
       "\n",
       "        <iframe\n",
       "            width=\"100%\"\n",
       "            height=\"800px\"\n",
       "            src=\"default2.html\"\n",
       "            frameborder=\"0\"\n",
       "            allowfullscreen\n",
       "        ></iframe>\n",
       "        "
      ],
      "text/plain": [
       "<IPython.lib.display.IFrame at 0x7ff284657850>"
      ]
     },
     "execution_count": 4,
     "metadata": {},
     "output_type": "execute_result"
    }
   ],
   "source": [
    "nw = v.vis(limit=50, show_literal=ShowLiteral.InNode)\n",
    "nw.show('default2.html')"
   ]
  },
  {
   "cell_type": "code",
   "execution_count": 5,
   "id": "c2a569e2",
   "metadata": {
    "ExecuteTime": {
     "end_time": "2021-09-12T14:41:04.300306Z",
     "start_time": "2021-09-12T14:41:04.249886Z"
    }
   },
   "outputs": [
    {
     "data": {
      "text/html": [
       "\n",
       "        <iframe\n",
       "            width=\"100%\"\n",
       "            height=\"800px\"\n",
       "            src=\"default3.html\"\n",
       "            frameborder=\"0\"\n",
       "            allowfullscreen\n",
       "        ></iframe>\n",
       "        "
      ],
      "text/plain": [
       "<IPython.lib.display.IFrame at 0x7ff2846579a0>"
      ]
     },
     "execution_count": 5,
     "metadata": {},
     "output_type": "execute_result"
    }
   ],
   "source": [
    "nw = v.vis(limit=100)\n",
    "nw.show('default3.html')"
   ]
  },
  {
   "cell_type": "markdown",
   "id": "4cc0504d",
   "metadata": {},
   "source": [
    "## 검색어 입력"
   ]
  },
  {
   "cell_type": "code",
   "execution_count": 6,
   "id": "5184b2bf",
   "metadata": {
    "ExecuteTime": {
     "end_time": "2021-09-12T14:41:04.353671Z",
     "start_time": "2021-09-12T14:41:04.302307Z"
    },
    "scrolled": false
   },
   "outputs": [
    {
     "data": {
      "text/html": [
       "\n",
       "        <iframe\n",
       "            width=\"100%\"\n",
       "            height=\"800px\"\n",
       "            src=\"default4.html\"\n",
       "            frameborder=\"0\"\n",
       "            allowfullscreen\n",
       "        ></iframe>\n",
       "        "
      ],
      "text/plain": [
       "<IPython.lib.display.IFrame at 0x7ff284657e80>"
      ]
     },
     "execution_count": 6,
     "metadata": {},
     "output_type": "execute_result"
    }
   ],
   "source": [
    "nw = v.vis(search_keyword='서울',limit=150, show_literal=ShowLiteral.Yes)\n",
    "nw.show('default4.html')"
   ]
  },
  {
   "cell_type": "markdown",
   "id": "d6ced830",
   "metadata": {},
   "source": [
    "## URI 입력"
   ]
  },
  {
   "cell_type": "code",
   "execution_count": 7,
   "id": "2f01479b",
   "metadata": {
    "ExecuteTime": {
     "end_time": "2021-09-12T14:41:04.392135Z",
     "start_time": "2021-09-12T14:41:04.357292Z"
    }
   },
   "outputs": [
    {
     "data": {
      "text/html": [
       "\n",
       "        <iframe\n",
       "            width=\"100%\"\n",
       "            height=\"800px\"\n",
       "            src=\"default5.html\"\n",
       "            frameborder=\"0\"\n",
       "            allowfullscreen\n",
       "        ></iframe>\n",
       "        "
      ],
      "text/plain": [
       "<IPython.lib.display.IFrame at 0x7ff284674220>"
      ]
     },
     "execution_count": 7,
     "metadata": {},
     "output_type": "execute_result"
    }
   ],
   "source": [
    "nw = v.vis(uri='http://joyhong.tistory.com/resource/h_1111',limit=150, show_literal=ShowLiteral.Yes)\n",
    "nw.show('default5.html')"
   ]
  },
  {
   "cell_type": "markdown",
   "id": "43fef9dd",
   "metadata": {},
   "source": [
    "## ignore property 설정"
   ]
  },
  {
   "cell_type": "markdown",
   "id": "00a3e841",
   "metadata": {},
   "source": [
    "시각화하는 내용 중에 삭제하고자 하는 관계를 ignore property 로 설정하여 사용한다."
   ]
  },
  {
   "cell_type": "code",
   "execution_count": 8,
   "id": "c69a1cc0",
   "metadata": {
    "ExecuteTime": {
     "end_time": "2021-09-12T14:41:04.446022Z",
     "start_time": "2021-09-12T14:41:04.394553Z"
    }
   },
   "outputs": [
    {
     "data": {
      "text/html": [
       "\n",
       "        <iframe\n",
       "            width=\"100%\"\n",
       "            height=\"800px\"\n",
       "            src=\"default6.html\"\n",
       "            frameborder=\"0\"\n",
       "            allowfullscreen\n",
       "        ></iframe>\n",
       "        "
      ],
      "text/plain": [
       "<IPython.lib.display.IFrame at 0x7ff2846747c0>"
      ]
     },
     "execution_count": 8,
     "metadata": {},
     "output_type": "execute_result"
    }
   ],
   "source": [
    "from rdflib.namespace import RDF\n",
    "\n",
    "ignore = [str(RDF.type)]\n",
    "v.setIgnoreProperty(ignore)\n",
    "\n",
    "nw = v.vis(search_keyword='서울',limit=150, show_literal=ShowLiteral.Yes)\n",
    "nw.show('default6.html')"
   ]
  },
  {
   "cell_type": "markdown",
   "id": "9a2ae647",
   "metadata": {
    "ExecuteTime": {
     "end_time": "2021-09-11T17:50:18.949456Z",
     "start_time": "2021-09-11T17:50:18.947433Z"
    }
   },
   "source": [
    "# 파일에 대한 사용법"
   ]
  },
  {
   "cell_type": "markdown",
   "id": "6f6a741a",
   "metadata": {},
   "source": [
    "## 기본 사용\n"
   ]
  },
  {
   "cell_type": "code",
   "execution_count": 9,
   "id": "ff57ee91",
   "metadata": {
    "ExecuteTime": {
     "end_time": "2021-09-12T14:41:04.449192Z",
     "start_time": "2021-09-12T14:41:04.447338Z"
    }
   },
   "outputs": [],
   "source": [
    "vf = Vis(filepath='sample_model.ttl')"
   ]
  },
  {
   "cell_type": "code",
   "execution_count": 10,
   "id": "df06dd0d",
   "metadata": {
    "ExecuteTime": {
     "end_time": "2021-09-12T14:41:05.348631Z",
     "start_time": "2021-09-12T14:41:04.450489Z"
    }
   },
   "outputs": [
    {
     "data": {
      "text/html": [
       "\n",
       "        <iframe\n",
       "            width=\"100%\"\n",
       "            height=\"800px\"\n",
       "            src=\"default7.html\"\n",
       "            frameborder=\"0\"\n",
       "            allowfullscreen\n",
       "        ></iframe>\n",
       "        "
      ],
      "text/plain": [
       "<IPython.lib.display.IFrame at 0x7ff28690fe20>"
      ]
     },
     "execution_count": 10,
     "metadata": {},
     "output_type": "execute_result"
    }
   ],
   "source": [
    "nw = vf.vis_file()\n",
    "nw.show('default7.html')"
   ]
  },
  {
   "cell_type": "code",
   "execution_count": 11,
   "id": "360b58d5",
   "metadata": {
    "ExecuteTime": {
     "end_time": "2021-09-12T14:41:05.425176Z",
     "start_time": "2021-09-12T14:41:05.350385Z"
    },
    "scrolled": false
   },
   "outputs": [
    {
     "data": {
      "text/html": [
       "\n",
       "        <iframe\n",
       "            width=\"100%\"\n",
       "            height=\"800px\"\n",
       "            src=\"default8.html\"\n",
       "            frameborder=\"0\"\n",
       "            allowfullscreen\n",
       "        ></iframe>\n",
       "        "
      ],
      "text/plain": [
       "<IPython.lib.display.IFrame at 0x7ff286b652e0>"
      ]
     },
     "execution_count": 11,
     "metadata": {},
     "output_type": "execute_result"
    }
   ],
   "source": [
    "nw = vf.vis_file(show_literal=ShowLiteral.InNode)\n",
    "nw.show('default8.html')"
   ]
  },
  {
   "cell_type": "markdown",
   "id": "44253ec7",
   "metadata": {},
   "source": [
    "## URI 입력"
   ]
  },
  {
   "cell_type": "code",
   "execution_count": 12,
   "id": "61b675c7",
   "metadata": {
    "ExecuteTime": {
     "end_time": "2021-09-12T14:41:05.563850Z",
     "start_time": "2021-09-12T14:41:05.427037Z"
    }
   },
   "outputs": [
    {
     "data": {
      "text/html": [
       "\n",
       "        <iframe\n",
       "            width=\"100%\"\n",
       "            height=\"800px\"\n",
       "            src=\"default9.html\"\n",
       "            frameborder=\"0\"\n",
       "            allowfullscreen\n",
       "        ></iframe>\n",
       "        "
      ],
      "text/plain": [
       "<IPython.lib.display.IFrame at 0x7ff286b01cd0>"
      ]
     },
     "execution_count": 12,
     "metadata": {},
     "output_type": "execute_result"
    }
   ],
   "source": [
    "nw = vf.vis_file(uri='http://ontology.sk.com/ontology/Experimental',show_literal=ShowLiteral.InNode)\n",
    "nw.show('default9.html')"
   ]
  },
  {
   "cell_type": "markdown",
   "id": "a8ebc5ef",
   "metadata": {},
   "source": [
    "Finish"
   ]
  }
 ],
 "metadata": {
  "kernelspec": {
   "display_name": "rdf",
   "language": "python",
   "name": "rdf"
  },
  "language_info": {
   "codemirror_mode": {
    "name": "ipython",
    "version": 3
   },
   "file_extension": ".py",
   "mimetype": "text/x-python",
   "name": "python",
   "nbconvert_exporter": "python",
   "pygments_lexer": "ipython3",
   "version": "3.8.5"
  },
  "toc": {
   "base_numbering": 1,
   "nav_menu": {},
   "number_sections": true,
   "sideBar": true,
   "skip_h1_title": false,
   "title_cell": "Table of Contents",
   "title_sidebar": "Contents",
   "toc_cell": false,
   "toc_position": {},
   "toc_section_display": true,
   "toc_window_display": true
  }
 },
 "nbformat": 4,
 "nbformat_minor": 5
}
