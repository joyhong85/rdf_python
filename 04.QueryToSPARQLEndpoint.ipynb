{
 "cells": [
  {
   "cell_type": "markdown",
   "id": "a4411646",
   "metadata": {},
   "source": [
    "<center><span style=\"color:blue\"><font size=\"6\">SPARQL Endpoint에 질의하기</font></span></center>  \n",
    "  \n",
    "<p><p>SPARQL Endpoint를 제공하면 웹상에서 자유롭게 질의를 하여 결과를 받아 올 수 있다.<p>\n",
    "이 전에 Fuseki를 활용하여 간단하게 SPARQL Endpoint를 구축하였는데, 이를 활용하여 테스트를 진행한다.<p>\n",
    "다양한 형태의 SPARQL을 구성하고 여러가지 포맷으로 결과를 받아온다.<p>\n",
    "    \n",
    " - 사용하는 라이브러리  \n",
    "    RDFLib  \n",
    "    (https://rdflib.readthedocs.io/en/5.0.0/index.html) <p>\n",
    "    SPARQLWrapper  \n",
    "    (https://rdflib.dev/sparqlwrapper/doc/1.8.5/main.html)\n",
    "\n",
    "<div align=\"right\">\n",
    "    작성자 : 허홍수<br>\n",
    "    e-mail : su4620@gmail.com<br>\n",
    "    blog : http://joyhong.tistory.com<br>\n",
    "</div>  "
   ]
  },
  {
   "cell_type": "markdown",
   "id": "43340d7b",
   "metadata": {},
   "source": [
    "# SPARQL 실행"
   ]
  },
  {
   "cell_type": "markdown",
   "id": "f9d2756e",
   "metadata": {},
   "source": [
    "기본적으로 SPARQL 실행 후 결과 리턴 포맷은 XML이기 때문에 별다른 설정을 하지 않으면 XML 포맷으로 결과값이 넘어온다.  \n",
    "아래 예시들에서는 디폴트인 XML을 그대로 사용하고 있다."
   ]
  },
  {
   "cell_type": "markdown",
   "id": "52639629",
   "metadata": {},
   "source": [
    "## SELECT"
   ]
  },
  {
   "cell_type": "code",
   "execution_count": 1,
   "id": "5e86539d",
   "metadata": {
    "ExecuteTime": {
     "end_time": "2021-09-09T15:19:01.885176Z",
     "start_time": "2021-09-09T15:19:01.861109Z"
    }
   },
   "outputs": [
    {
     "name": "stdout",
     "output_type": "stream",
     "text": [
      "<?xml version=\"1.0\" ?><sparql xmlns=\"http://www.w3.org/2005/sparql-results#\">\n",
      "  <head>\n",
      "    <variable name=\"s\"/>\n",
      "    <variable name=\"p\"/>\n",
      "    <variable name=\"o\"/>\n",
      "  </head>\n",
      "  <results>\n",
      "    <result>\n",
      "      <binding name=\"s\">\n",
      "        <uri>http://joyhong.tistory.com/resource/h_1</uri>\n",
      "      </binding>\n",
      "      <binding name=\"p\">\n",
      "        <uri>http://www.w3.org/1999/02/22-rdf-syntax-ns#type</uri>\n",
      "      </binding>\n",
      "      <binding name=\"o\">\n",
      "        <uri>http://schema.org/Hospital</uri>\n",
      "      </binding>\n",
      "    </result>\n",
      "    <result>\n",
      "      <binding name=\"s\">\n",
      "        <uri>http://joyhong.tistory.com/resource/h_1</uri>\n",
      "      </binding>\n",
      "      <binding name=\"p\">\n",
      "        <uri>http://www.w3.org/2000/01/rdf-schema#label</uri>\n",
      "      </binding>\n",
      "      <binding name=\"o\">\n",
      "        <literal>가톨릭대학교인천성모병원</literal>\n",
      "      </binding>\n",
      "    </result>\n",
      "    <result>\n",
      "      <binding name=\"s\">\n",
      "        <uri>http://joyhong.tistory.com/resource/h_1</uri>\n",
      "      </binding>\n",
      "      <binding name=\"p\">\n",
      "        <uri>http://joyhong.tistory.com/ontology/openedDate</uri>\n",
      "      </binding>\n",
      "      <binding name=\"o\">\n",
      "        <literal datatype=\"http://www.w3.org/2001/XMLSchema#date\">1981-08-06</literal>\n",
      "      </binding>\n",
      "    </result>\n",
      "    <result>\n",
      "      <binding name=\"s\">\n",
      "        <uri>http://joyhong.tistory.com/resource/h_1</uri>\n",
      "      </binding>\n",
      "      <binding name=\"p\">\n",
      "        <uri>http://joyhong.tistory.com/ontology/totalNumberOfDoctor</uri>\n",
      "      </binding>\n",
      "      <binding name=\"o\">\n",
      "        <literal>324</literal>\n",
      "      </binding>\n",
      "    </result>\n",
      "    <result>\n",
      "      <binding name=\"s\">\n",
      "        <uri>http://joyhong.tistory.com/resource/h_1</uri>\n",
      "      </binding>\n",
      "      <binding name=\"p\">\n",
      "        <uri>http://purl.org/dc/terms/identifier</uri>\n",
      "      </binding>\n",
      "      <binding name=\"o\">\n",
      "        <literal>JDQ4MTYyMiM1MSMkMSMkMCMkODkkMzgxMzUxIzExIyQxIyQzIyQ3OSQyNjE4MzIjNDEjJDEjJDgjJDgz</literal>\n",
      "      </binding>\n",
      "    </result>\n",
      "    <result>\n",
      "      <binding name=\"s\">\n",
      "        <uri>http://joyhong.tistory.com/resource/h_1</uri>\n",
      "      </binding>\n",
      "      <binding name=\"p\">\n",
      "        <uri>http://purl.org/dc/terms/subject</uri>\n",
      "      </binding>\n",
      "      <binding name=\"o\">\n",
      "        <uri>http://joyhong.tistory.com/resource/cat_1</uri>\n",
      "      </binding>\n",
      "    </result>\n",
      "    <result>\n",
      "      <binding name=\"s\">\n",
      "        <uri>http://joyhong.tistory.com/resource/h_1</uri>\n",
      "      </binding>\n",
      "      <binding name=\"p\">\n",
      "        <uri>http://purl.org/dc/terms/subject</uri>\n",
      "      </binding>\n",
      "      <binding name=\"o\">\n",
      "        <uri>http://joyhong.tistory.com/resource/rg_220000</uri>\n",
      "      </binding>\n",
      "    </result>\n",
      "    <result>\n",
      "      <binding name=\"s\">\n",
      "        <uri>http://joyhong.tistory.com/resource/h_1</uri>\n",
      "      </binding>\n",
      "      <binding name=\"p\">\n",
      "        <uri>http://purl.org/dc/terms/subject</uri>\n",
      "      </binding>\n",
      "      <binding name=\"o\">\n",
      "        <uri>http://joyhong.tistory.com/resource/rg_220003</uri>\n",
      "      </binding>\n",
      "    </result>\n",
      "    <result>\n",
      "      <binding name=\"s\">\n",
      "        <uri>http://joyhong.tistory.com/resource/h_1</uri>\n",
      "      </binding>\n",
      "      <binding name=\"p\">\n",
      "        <uri>http://schema.org/geo</uri>\n",
      "      </binding>\n",
      "      <binding name=\"o\">\n",
      "        <uri>http://joyhong.tistory.com/resource/geo_h1</uri>\n",
      "      </binding>\n",
      "    </result>\n",
      "    <result>\n",
      "      <binding name=\"s\">\n",
      "        <uri>http://joyhong.tistory.com/resource/h_1</uri>\n",
      "      </binding>\n",
      "      <binding name=\"p\">\n",
      "        <uri>http://schema.org/telephone</uri>\n",
      "      </binding>\n",
      "      <binding name=\"o\">\n",
      "        <literal>032-1544-9004</literal>\n",
      "      </binding>\n",
      "    </result>\n",
      "  </results>\n",
      "</sparql>\n"
     ]
    }
   ],
   "source": [
    "from SPARQLWrapper import SPARQLWrapper\n",
    "\n",
    "sparql = SPARQLWrapper(\"http://localhost:3030/publicdata/query\")\n",
    "\n",
    "sparql.setQuery(\"\"\"\n",
    "    PREFIX rdfs: <http://www.w3.org/2000/01/rdf-schema#>\n",
    "    SELECT *\n",
    "    WHERE { \n",
    "        ?s ?p ?o \n",
    "    } LIMIT 10\n",
    "\"\"\")\n",
    "\n",
    "results = sparql.query().convert()\n",
    "# convert()가 자동으로 결과를 변환시킨다. 리턴이 xml이기 때문에 xml.dom.minidom 형태로 바꾸어준다.\n",
    "print(results.toxml())\n"
   ]
  },
  {
   "cell_type": "markdown",
   "id": "85eb7da1",
   "metadata": {},
   "source": [
    "## ASK"
   ]
  },
  {
   "cell_type": "code",
   "execution_count": 2,
   "id": "7df95913",
   "metadata": {
    "ExecuteTime": {
     "end_time": "2021-09-09T15:19:01.895546Z",
     "start_time": "2021-09-09T15:19:01.887719Z"
    }
   },
   "outputs": [
    {
     "name": "stdout",
     "output_type": "stream",
     "text": [
      "True\n"
     ]
    }
   ],
   "source": [
    "from SPARQLWrapper import SPARQLWrapper\n",
    "\n",
    "sparql = SPARQLWrapper(\"http://localhost:3030/publicdata/query\")\n",
    "\n",
    "sparql.setQuery(\"\"\"\n",
    "    ASK WHERE {\n",
    "        <http://joyhong.tistory.com/resource/h_1> ?p ?label \n",
    "    }\n",
    "\"\"\")\n",
    "\n",
    "results = sparql.query().convert()\n",
    "print(bool(results))"
   ]
  },
  {
   "cell_type": "markdown",
   "id": "cff04389",
   "metadata": {},
   "source": [
    "## CONSTRUCT"
   ]
  },
  {
   "cell_type": "markdown",
   "id": "89aff979",
   "metadata": {},
   "source": [
    "CONSTRUCT와 DESCRIBE RDF/XML 구문으로 리턴된다."
   ]
  },
  {
   "cell_type": "code",
   "execution_count": 3,
   "id": "130c1fc4",
   "metadata": {
    "ExecuteTime": {
     "end_time": "2021-09-09T15:19:02.159855Z",
     "start_time": "2021-09-09T15:19:01.898200Z"
    }
   },
   "outputs": [
    {
     "name": "stdout",
     "output_type": "stream",
     "text": [
      "<?xml version=\"1.0\" encoding=\"UTF-8\"?>\n",
      "<rdf:RDF\n",
      "   xmlns:dcterms=\"http://purl.org/dc/terms/\"\n",
      "   xmlns:foaf=\"http://xmlns.com/foaf/0.1/\"\n",
      "   xmlns:ont=\"http://joyhong.tistory.com/ontology/\"\n",
      "   xmlns:rdf=\"http://www.w3.org/1999/02/22-rdf-syntax-ns#\"\n",
      "   xmlns:rdfs=\"http://www.w3.org/2000/01/rdf-schema#\"\n",
      "   xmlns:schema=\"http://schema.org/\"\n",
      ">\n",
      "  <rdf:Description rdf:about=\"http://joyhong.tistory.com/resource/h_1\">\n",
      "    <schema:telephone>032-1544-9004</schema:telephone>\n",
      "    <rdf:type rdf:resource=\"http://schema.org/Hospital\"/>\n",
      "    <dcterms:identifier>JDQ4MTYyMiM1MSMkMSMkMCMkODkkMzgxMzUxIzExIyQxIyQzIyQ3OSQyNjE4MzIjNDEjJDEjJDgjJDgz</dcterms:identifier>\n",
      "    <foaf:homepage rdf:resource=\"http://www.cmcism.or.kr/\"/>\n",
      "    <ont:totalNumberOfDoctor>324</ont:totalNumberOfDoctor>\n",
      "    <dcterms:subject rdf:resource=\"http://joyhong.tistory.com/resource/cat_1\"/>\n",
      "    <dcterms:subject rdf:resource=\"http://joyhong.tistory.com/resource/rg_220003\"/>\n",
      "    <dcterms:subject rdf:resource=\"http://joyhong.tistory.com/resource/rg_220000\"/>\n",
      "    <schema:geo rdf:resource=\"http://joyhong.tistory.com/resource/geo_h1\"/>\n",
      "    <ont:openedDate rdf:datatype=\"http://www.w3.org/2001/XMLSchema#date\">1981-08-06</ont:openedDate>\n",
      "    <rdfs:label>가톨릭대학교인천성모병원</rdfs:label>\n",
      "    <foaf:page rdf:resource=\"http://www.hira.or.kr/re/diag/getDiagAmtInfo.do?ykiho=JDQ4MTYyMiM1MSMkMSMkMCMkODkkMzgxMzUxIzExIyQxIyQzIyQ3OSQyNjE4MzIjNDEjJDEjJDgjJDgz\"/>\n",
      "  </rdf:Description>\n",
      "</rdf:RDF>\n",
      "\n"
     ]
    }
   ],
   "source": [
    "from SPARQLWrapper import SPARQLWrapper\n",
    "from rdflib import Graph\n",
    "\n",
    "sparql = SPARQLWrapper(\"http://localhost:3030/publicdata/query\")\n",
    "\n",
    "sparql.setQuery(\"\"\"\n",
    "    CONSTRUCT {\n",
    "        ?s ?p ?o.\n",
    "    } WHERE {\n",
    "        ?s ?p ?o . \n",
    "        FILTER(?s=<http://joyhong.tistory.com/resource/h_1>)\n",
    "    }\n",
    "\"\"\")\n",
    "\n",
    "results = sparql.query().convert()\n",
    "# CONSTRUCT 구문은 RDF/XML 형태로 리턴이 되기 때문에 convert()가 자동으로 Graph 인스턴스로 변환시킨다.\n",
    "# 따라서 results는 타입이 Graph 임으로 바로 serialize() 를 통해 직렬화가 가능하다.\n",
    "\n",
    "print(results.serialize().decode('utf-8'))\n"
   ]
  },
  {
   "cell_type": "markdown",
   "id": "2c306267",
   "metadata": {},
   "source": [
    "## DESCRIBE"
   ]
  },
  {
   "cell_type": "code",
   "execution_count": 4,
   "id": "e8712435",
   "metadata": {
    "ExecuteTime": {
     "end_time": "2021-09-09T15:19:02.177954Z",
     "start_time": "2021-09-09T15:19:02.162167Z"
    }
   },
   "outputs": [
    {
     "name": "stdout",
     "output_type": "stream",
     "text": [
      "<?xml version=\"1.0\" encoding=\"UTF-8\"?>\n",
      "<rdf:RDF\n",
      "   xmlns:dcterms=\"http://purl.org/dc/terms/\"\n",
      "   xmlns:foaf=\"http://xmlns.com/foaf/0.1/\"\n",
      "   xmlns:ont=\"http://joyhong.tistory.com/ontology/\"\n",
      "   xmlns:rdf=\"http://www.w3.org/1999/02/22-rdf-syntax-ns#\"\n",
      "   xmlns:rdfs=\"http://www.w3.org/2000/01/rdf-schema#\"\n",
      "   xmlns:schema=\"http://schema.org/\"\n",
      ">\n",
      "  <rdf:Description rdf:about=\"http://joyhong.tistory.com/resource/h_16\">\n",
      "    <schema:geo rdf:resource=\"http://joyhong.tistory.com/resource/geo_h16\"/>\n",
      "    <dcterms:identifier>JDQ4MTg4MSM1MSMkMSMkMCMkODkkMzgxMzUxIzExIyQxIyQzIyQxMyQzNjEwMDIjODEjJDEjJDIjJDgz</dcterms:identifier>\n",
      "    <ont:totalNumberOfDoctor>1399</ont:totalNumberOfDoctor>\n",
      "    <ont:openedDate rdf:datatype=\"http://www.w3.org/2001/XMLSchema#date\">1994-06-13</ont:openedDate>\n",
      "    <dcterms:subject rdf:resource=\"http://joyhong.tistory.com/resource/cat_1\"/>\n",
      "    <rdfs:label>삼성서울병원</rdfs:label>\n",
      "    <dcterms:subject rdf:resource=\"http://joyhong.tistory.com/resource/rg_110000\"/>\n",
      "    <dcterms:subject rdf:resource=\"http://joyhong.tistory.com/resource/rg_110001\"/>\n",
      "    <foaf:homepage rdf:resource=\"http://www.samsunghospital.com\"/>\n",
      "    <rdf:type rdf:resource=\"http://schema.org/Hospital\"/>\n",
      "    <foaf:page rdf:resource=\"http://www.hira.or.kr/re/diag/getDiagAmtInfo.do?ykiho=JDQ4MTg4MSM1MSMkMSMkMCMkODkkMzgxMzUxIzExIyQxIyQzIyQxMyQzNjEwMDIjODEjJDEjJDIjJDgz\"/>\n",
      "    <schema:telephone>02-3410-2114</schema:telephone>\n",
      "  </rdf:Description>\n",
      "</rdf:RDF>\n",
      "\n"
     ]
    }
   ],
   "source": [
    "from SPARQLWrapper import SPARQLWrapper\n",
    "from rdflib import Graph\n",
    "\n",
    "sparql = SPARQLWrapper(\"http://localhost:3030/publicdata/query\")\n",
    "\n",
    "sparql.setQuery(\"\"\"\n",
    "    DESCRIBE <http://joyhong.tistory.com/resource/h_16>\n",
    "\"\"\")\n",
    "\n",
    "results = sparql.query().convert()\n",
    "# DESCRIBE 구문은 CONSTRUCT와 마찬가지로 RDF/XML 형태로 리턴이 되기 때문에 convert()가 자동으로 Graph 인스턴스로 변환시킨다.\n",
    "# 따라서 results는 타입이 Graph 임으로 바로 serialize() 를 통해 직렬화가 가능하다.\n",
    "\n",
    "print(results.serialize().decode('utf-8'))"
   ]
  },
  {
   "cell_type": "markdown",
   "id": "5a9fda60",
   "metadata": {},
   "source": [
    "# Graph 리턴인 경우 여러가지 직렬화"
   ]
  },
  {
   "cell_type": "markdown",
   "id": "08528a09",
   "metadata": {},
   "source": [
    "CONSTRUCT와 DESCRIBE 구문은 RDF/XML 형태로 리턴이 되고, convert()를 통해 Graph의 인스턴스로 변환되기 때문에 여러가지 직렬화를 사용할 수 있다."
   ]
  },
  {
   "cell_type": "markdown",
   "id": "1a35f82f",
   "metadata": {},
   "source": [
    "## RDF/XML\n"
   ]
  },
  {
   "cell_type": "code",
   "execution_count": 5,
   "id": "0df56814",
   "metadata": {
    "ExecuteTime": {
     "end_time": "2021-09-09T15:19:02.192745Z",
     "start_time": "2021-09-09T15:19:02.180151Z"
    }
   },
   "outputs": [
    {
     "name": "stdout",
     "output_type": "stream",
     "text": [
      "XML(디폴트) 형태로 출력\n",
      "====================================================================================================\n",
      "<?xml version=\"1.0\" encoding=\"UTF-8\"?>\n",
      "<rdf:RDF\n",
      "   xmlns:dcterms=\"http://purl.org/dc/terms/\"\n",
      "   xmlns:foaf=\"http://xmlns.com/foaf/0.1/\"\n",
      "   xmlns:ont=\"http://joyhong.tistory.com/ontology/\"\n",
      "   xmlns:rdf=\"http://www.w3.org/1999/02/22-rdf-syntax-ns#\"\n",
      "   xmlns:rdfs=\"http://www.w3.org/2000/01/rdf-schema#\"\n",
      "   xmlns:schema=\"http://schema.org/\"\n",
      ">\n",
      "  <rdf:Description rdf:about=\"http://joyhong.tistory.com/resource/h_16\">\n",
      "    <dcterms:identifier>JDQ4MTg4MSM1MSMkMSMkMCMkODkkMzgxMzUxIzExIyQxIyQzIyQxMyQzNjEwMDIjODEjJDEjJDIjJDgz</dcterms:identifier>\n",
      "    <dcterms:subject rdf:resource=\"http://joyhong.tistory.com/resource/cat_1\"/>\n",
      "    <dcterms:subject rdf:resource=\"http://joyhong.tistory.com/resource/rg_110001\"/>\n",
      "    <ont:openedDate rdf:datatype=\"http://www.w3.org/2001/XMLSchema#date\">1994-06-13</ont:openedDate>\n",
      "    <dcterms:subject rdf:resource=\"http://joyhong.tistory.com/resource/rg_110000\"/>\n",
      "    <rdf:type rdf:resource=\"http://schema.org/Hospital\"/>\n",
      "    <schema:geo rdf:resource=\"http://joyhong.tistory.com/resource/geo_h16\"/>\n",
      "    <foaf:page rdf:resource=\"http://www.hira.or.kr/re/diag/getDiagAmtInfo.do?ykiho=JDQ4MTg4MSM1MSMkMSMkMCMkODkkMzgxMzUxIzExIyQxIyQzIyQxMyQzNjEwMDIjODEjJDEjJDIjJDgz\"/>\n",
      "    <foaf:homepage rdf:resource=\"http://www.samsunghospital.com\"/>\n",
      "    <rdfs:label>삼성서울병원</rdfs:label>\n",
      "    <ont:totalNumberOfDoctor>1399</ont:totalNumberOfDoctor>\n",
      "    <schema:telephone>02-3410-2114</schema:telephone>\n",
      "  </rdf:Description>\n",
      "</rdf:RDF>\n",
      "\n"
     ]
    }
   ],
   "source": [
    "from SPARQLWrapper import SPARQLWrapper\n",
    "from rdflib import Graph\n",
    "\n",
    "sparql = SPARQLWrapper(\"http://localhost:3030/publicdata/query\")\n",
    "\n",
    "sparql.setQuery(\"\"\"\n",
    "    DESCRIBE <http://joyhong.tistory.com/resource/h_16>\n",
    "\"\"\")\n",
    "\n",
    "results = sparql.query().convert()\n",
    "\n",
    "print('XML(디폴트) 형태로 출력')\n",
    "print('='*100)\n",
    "print(results.serialize().decode('utf-8'))"
   ]
  },
  {
   "cell_type": "markdown",
   "id": "780b2752",
   "metadata": {},
   "source": [
    "## Turtle"
   ]
  },
  {
   "cell_type": "code",
   "execution_count": 6,
   "id": "65bc4aec",
   "metadata": {
    "ExecuteTime": {
     "end_time": "2021-09-09T15:19:02.200984Z",
     "start_time": "2021-09-09T15:19:02.194907Z"
    }
   },
   "outputs": [
    {
     "name": "stdout",
     "output_type": "stream",
     "text": [
      "TURTLE 형태로 출력\n",
      "====================================================================================================\n",
      "@prefix dcterms: <http://purl.org/dc/terms/> .\n",
      "@prefix foaf: <http://xmlns.com/foaf/0.1/> .\n",
      "@prefix ont: <http://joyhong.tistory.com/ontology/> .\n",
      "@prefix rdfs: <http://www.w3.org/2000/01/rdf-schema#> .\n",
      "@prefix rs: <http://joyhong.tistory.com/resource/> .\n",
      "@prefix schema: <http://schema.org/> .\n",
      "@prefix xsd: <http://www.w3.org/2001/XMLSchema#> .\n",
      "\n",
      "rs:h_16 a schema:Hospital ;\n",
      "    rdfs:label \"삼성서울병원\" ;\n",
      "    ont:openedDate \"1994-06-13\"^^xsd:date ;\n",
      "    ont:totalNumberOfDoctor \"1399\" ;\n",
      "    dcterms:identifier \"JDQ4MTg4MSM1MSMkMSMkMCMkODkkMzgxMzUxIzExIyQxIyQzIyQxMyQzNjEwMDIjODEjJDEjJDIjJDgz\" ;\n",
      "    dcterms:subject rs:cat_1,\n",
      "        rs:rg_110000,\n",
      "        rs:rg_110001 ;\n",
      "    schema:geo rs:geo_h16 ;\n",
      "    schema:telephone \"02-3410-2114\" ;\n",
      "    foaf:homepage <http://www.samsunghospital.com> ;\n",
      "    foaf:page <http://www.hira.or.kr/re/diag/getDiagAmtInfo.do?ykiho=JDQ4MTg4MSM1MSMkMSMkMCMkODkkMzgxMzUxIzExIyQxIyQzIyQxMyQzNjEwMDIjODEjJDEjJDIjJDgz> .\n",
      "\n",
      "\n"
     ]
    }
   ],
   "source": [
    "print('TURTLE 형태로 출력')\n",
    "print('='*100)\n",
    "print(results.serialize(format='turtle').decode('utf-8'))"
   ]
  },
  {
   "cell_type": "markdown",
   "id": "5a31b854",
   "metadata": {},
   "source": [
    "## JSON-LD"
   ]
  },
  {
   "cell_type": "code",
   "execution_count": 7,
   "id": "7ef6bcaa",
   "metadata": {
    "ExecuteTime": {
     "end_time": "2021-09-09T15:19:02.224756Z",
     "start_time": "2021-09-09T15:19:02.203003Z"
    }
   },
   "outputs": [
    {
     "name": "stdout",
     "output_type": "stream",
     "text": [
      "JSON-LD 형태로 출력\n",
      "====================================================================================================\n",
      "[\n",
      "  {\n",
      "    \"@id\": \"http://joyhong.tistory.com/resource/h_16\",\n",
      "    \"@type\": [\n",
      "      \"http://schema.org/Hospital\"\n",
      "    ],\n",
      "    \"http://joyhong.tistory.com/ontology/openedDate\": [\n",
      "      {\n",
      "        \"@type\": \"http://www.w3.org/2001/XMLSchema#date\",\n",
      "        \"@value\": \"1994-06-13\"\n",
      "      }\n",
      "    ],\n",
      "    \"http://joyhong.tistory.com/ontology/totalNumberOfDoctor\": [\n",
      "      {\n",
      "        \"@value\": \"1399\"\n",
      "      }\n",
      "    ],\n",
      "    \"http://purl.org/dc/terms/identifier\": [\n",
      "      {\n",
      "        \"@value\": \"JDQ4MTg4MSM1MSMkMSMkMCMkODkkMzgxMzUxIzExIyQxIyQzIyQxMyQzNjEwMDIjODEjJDEjJDIjJDgz\"\n",
      "      }\n",
      "    ],\n",
      "    \"http://purl.org/dc/terms/subject\": [\n",
      "      {\n",
      "        \"@id\": \"http://joyhong.tistory.com/resource/rg_110000\"\n",
      "      },\n",
      "      {\n",
      "        \"@id\": \"http://joyhong.tistory.com/resource/rg_110001\"\n",
      "      },\n",
      "      {\n",
      "        \"@id\": \"http://joyhong.tistory.com/resource/cat_1\"\n",
      "      }\n",
      "    ],\n",
      "    \"http://schema.org/geo\": [\n",
      "      {\n",
      "        \"@id\": \"http://joyhong.tistory.com/resource/geo_h16\"\n",
      "      }\n",
      "    ],\n",
      "    \"http://schema.org/telephone\": [\n",
      "      {\n",
      "        \"@value\": \"02-3410-2114\"\n",
      "      }\n",
      "    ],\n",
      "    \"http://www.w3.org/2000/01/rdf-schema#label\": [\n",
      "      {\n",
      "        \"@value\": \"삼성서울병원\"\n",
      "      }\n",
      "    ],\n",
      "    \"http://xmlns.com/foaf/0.1/homepage\": [\n",
      "      {\n",
      "        \"@id\": \"http://www.samsunghospital.com\"\n",
      "      }\n",
      "    ],\n",
      "    \"http://xmlns.com/foaf/0.1/page\": [\n",
      "      {\n",
      "        \"@id\": \"http://www.hira.or.kr/re/diag/getDiagAmtInfo.do?ykiho=JDQ4MTg4MSM1MSMkMSMkMCMkODkkMzgxMzUxIzExIyQxIyQzIyQxMyQzNjEwMDIjODEjJDEjJDIjJDgz\"\n",
      "      }\n",
      "    ]\n",
      "  }\n",
      "]\n"
     ]
    }
   ],
   "source": [
    "print('JSON-LD 형태로 출력')\n",
    "print('='*100)\n",
    "print(results.serialize(format='json-ld').decode('utf-8'))"
   ]
  },
  {
   "cell_type": "markdown",
   "id": "cf51b4ad",
   "metadata": {},
   "source": [
    "## N-Triples"
   ]
  },
  {
   "cell_type": "code",
   "execution_count": 8,
   "id": "433fe3d2",
   "metadata": {
    "ExecuteTime": {
     "end_time": "2021-09-09T15:19:02.233751Z",
     "start_time": "2021-09-09T15:19:02.228740Z"
    }
   },
   "outputs": [
    {
     "name": "stdout",
     "output_type": "stream",
     "text": [
      "N-Triples 형태로 출력\n",
      "====================================================================================================\n",
      "<http://joyhong.tistory.com/resource/h_16> <http://purl.org/dc/terms/identifier> \"JDQ4MTg4MSM1MSMkMSMkMCMkODkkMzgxMzUxIzExIyQxIyQzIyQxMyQzNjEwMDIjODEjJDEjJDIjJDgz\" .\n",
      "<http://joyhong.tistory.com/resource/h_16> <http://purl.org/dc/terms/subject> <http://joyhong.tistory.com/resource/cat_1> .\n",
      "<http://joyhong.tistory.com/resource/h_16> <http://purl.org/dc/terms/subject> <http://joyhong.tistory.com/resource/rg_110001> .\n",
      "<http://joyhong.tistory.com/resource/h_16> <http://joyhong.tistory.com/ontology/openedDate> \"1994-06-13\"^^<http://www.w3.org/2001/XMLSchema#date> .\n",
      "<http://joyhong.tistory.com/resource/h_16> <http://purl.org/dc/terms/subject> <http://joyhong.tistory.com/resource/rg_110000> .\n",
      "<http://joyhong.tistory.com/resource/h_16> <http://www.w3.org/1999/02/22-rdf-syntax-ns#type> <http://schema.org/Hospital> .\n",
      "<http://joyhong.tistory.com/resource/h_16> <http://schema.org/geo> <http://joyhong.tistory.com/resource/geo_h16> .\n",
      "<http://joyhong.tistory.com/resource/h_16> <http://xmlns.com/foaf/0.1/page> <http://www.hira.or.kr/re/diag/getDiagAmtInfo.do?ykiho=JDQ4MTg4MSM1MSMkMSMkMCMkODkkMzgxMzUxIzExIyQxIyQzIyQxMyQzNjEwMDIjODEjJDEjJDIjJDgz> .\n",
      "<http://joyhong.tistory.com/resource/h_16> <http://xmlns.com/foaf/0.1/homepage> <http://www.samsunghospital.com> .\n",
      "<http://joyhong.tistory.com/resource/h_16> <http://www.w3.org/2000/01/rdf-schema#label> \"\\uC0BC\\uC131\\uC11C\\uC6B8\\uBCD1\\uC6D0\" .\n",
      "<http://joyhong.tistory.com/resource/h_16> <http://joyhong.tistory.com/ontology/totalNumberOfDoctor> \"1399\" .\n",
      "<http://joyhong.tistory.com/resource/h_16> <http://schema.org/telephone> \"02-3410-2114\" .\n",
      "\n",
      "\n"
     ]
    }
   ],
   "source": [
    "print('N-Triples 형태로 출력')\n",
    "print('='*100)\n",
    "print(results.serialize(format='nt').decode('utf-8'))"
   ]
  },
  {
   "cell_type": "markdown",
   "id": "12976010",
   "metadata": {},
   "source": [
    "# 반환 포맷 설정"
   ]
  },
  {
   "cell_type": "markdown",
   "id": "3d2cab8f",
   "metadata": {},
   "source": [
    "## SELECT 구문"
   ]
  },
  {
   "cell_type": "markdown",
   "id": "b0e2caec",
   "metadata": {},
   "source": [
    "<font size='4em' color='red'><b>중요! </b></font> SELECT와 ASK 구문은 <font size='4em' color='red'><b>XML, JSON, CSV/TSV</b></font> 형태로만 결과를 반환한다."
   ]
  },
  {
   "cell_type": "markdown",
   "id": "b7dc4c2c",
   "metadata": {},
   "source": [
    "### JSON 형태로 결과 반환"
   ]
  },
  {
   "cell_type": "code",
   "execution_count": 9,
   "id": "713a55d2",
   "metadata": {
    "ExecuteTime": {
     "end_time": "2021-09-09T15:19:02.246143Z",
     "start_time": "2021-09-09T15:19:02.238044Z"
    }
   },
   "outputs": [
    {
     "name": "stdout",
     "output_type": "stream",
     "text": [
      "http://www.w3.org/1999/02/22-rdf-syntax-ns#type \t http://schema.org/Hospital\n",
      "http://www.w3.org/2000/01/rdf-schema#label \t 가톨릭대학교인천성모병원\n",
      "http://joyhong.tistory.com/ontology/openedDate \t 1981-08-06\n",
      "http://joyhong.tistory.com/ontology/totalNumberOfDoctor \t 324\n",
      "http://purl.org/dc/terms/identifier \t JDQ4MTYyMiM1MSMkMSMkMCMkODkkMzgxMzUxIzExIyQxIyQzIyQ3OSQyNjE4MzIjNDEjJDEjJDgjJDgz\n",
      "http://purl.org/dc/terms/subject \t http://joyhong.tistory.com/resource/cat_1\n",
      "http://purl.org/dc/terms/subject \t http://joyhong.tistory.com/resource/rg_220000\n",
      "http://purl.org/dc/terms/subject \t http://joyhong.tistory.com/resource/rg_220003\n",
      "http://schema.org/geo \t http://joyhong.tistory.com/resource/geo_h1\n",
      "http://schema.org/telephone \t 032-1544-9004\n"
     ]
    }
   ],
   "source": [
    "from SPARQLWrapper import SPARQLWrapper, JSON\n",
    "\n",
    "sparql = SPARQLWrapper(\"http://localhost:3030/publicdata/query\")\n",
    "\n",
    "sparql.setQuery(\"\"\"\n",
    "    PREFIX rdfs: <http://www.w3.org/2000/01/rdf-schema#>\n",
    "    SELECT *\n",
    "    WHERE { \n",
    "        ?s ?p ?o .\n",
    "    } LIMIT 10\n",
    "\"\"\")\n",
    "\n",
    "sparql.setReturnFormat(JSON)\n",
    "results = sparql.query().convert()\n",
    "# JSON 형태로 결과를 받으면 convert()가 자동으로 dictionary 변환하기 때문에 아래와 같이 결과를 확인할 수 있다.\n",
    "\n",
    "for result in results[\"results\"][\"bindings\"]:\n",
    "    print(result[\"p\"][\"value\"], \"\\t\", result[\"o\"][\"value\"])\n"
   ]
  },
  {
   "cell_type": "markdown",
   "id": "367a7efb",
   "metadata": {},
   "source": [
    "### CSV 형태로 결과 반환"
   ]
  },
  {
   "cell_type": "code",
   "execution_count": 10,
   "id": "a4c21ac9",
   "metadata": {
    "ExecuteTime": {
     "end_time": "2021-09-09T15:19:02.275252Z",
     "start_time": "2021-09-09T15:19:02.248016Z"
    }
   },
   "outputs": [
    {
     "name": "stdout",
     "output_type": "stream",
     "text": [
      "s,p,o\r\n",
      "http://joyhong.tistory.com/resource/h_1,http://www.w3.org/1999/02/22-rdf-syntax-ns#type,http://schema.org/Hospital\r\n",
      "http://joyhong.tistory.com/resource/h_1,http://www.w3.org/2000/01/rdf-schema#label,가톨릭대학교인천성모병원\r\n",
      "http://joyhong.tistory.com/resource/h_1,http://joyhong.tistory.com/ontology/openedDate,1981-08-06\r\n",
      "http://joyhong.tistory.com/resource/h_1,http://joyhong.tistory.com/ontology/totalNumberOfDoctor,324\r\n",
      "http://joyhong.tistory.com/resource/h_1,http://purl.org/dc/terms/identifier,JDQ4MTYyMiM1MSMkMSMkMCMkODkkMzgxMzUxIzExIyQxIyQzIyQ3OSQyNjE4MzIjNDEjJDEjJDgjJDgz\r\n",
      "http://joyhong.tistory.com/resource/h_1,http://purl.org/dc/terms/subject,http://joyhong.tistory.com/resource/cat_1\r\n",
      "http://joyhong.tistory.com/resource/h_1,http://purl.org/dc/terms/subject,http://joyhong.tistory.com/resource/rg_220000\r\n",
      "http://joyhong.tistory.com/resource/h_1,http://purl.org/dc/terms/subject,http://joyhong.tistory.com/resource/rg_220003\r\n",
      "http://joyhong.tistory.com/resource/h_1,http://schema.org/geo,http://joyhong.tistory.com/resource/geo_h1\r\n",
      "http://joyhong.tistory.com/resource/h_1,http://schema.org/telephone,032-1544-9004\r\n",
      "\n"
     ]
    }
   ],
   "source": [
    "from SPARQLWrapper import SPARQLWrapper, CSV\n",
    "\n",
    "sparql = SPARQLWrapper(\"http://localhost:3030/publicdata/query\")\n",
    "\n",
    "sparql.setQuery(\"\"\"\n",
    "    PREFIX rdfs: <http://www.w3.org/2000/01/rdf-schema#>\n",
    "    SELECT *\n",
    "    WHERE { \n",
    "        ?s ?p ?o .\n",
    "    } LIMIT 10\n",
    "\"\"\")\n",
    "\n",
    "sparql.setReturnFormat(CSV)\n",
    "results = sparql.query().convert()\n",
    "# CSV 형태로 결과를 받으면 convert()가 자동으로 string으로 변환하기 때문에 아래와 같이 결과를 확인할 수 있다.\n",
    "print(results.decode('utf-8'))"
   ]
  },
  {
   "cell_type": "markdown",
   "id": "941412a0",
   "metadata": {},
   "source": [
    "## DESCRIBE 구문"
   ]
  },
  {
   "cell_type": "markdown",
   "id": "458f59aa",
   "metadata": {},
   "source": [
    "<font size='4em' color='red'><b>중요! </b></font> DESCRIBE와 CONSTRUCT 구문은 <font size='4em' color='red'><b>RDF/XML 혹은 그와 동일한 그래프</b></font> 형태로만 결과를 반환한다."
   ]
  },
  {
   "cell_type": "markdown",
   "id": "d9e33bba",
   "metadata": {},
   "source": [
    "### Turtle 형태로 결과 반환"
   ]
  },
  {
   "cell_type": "code",
   "execution_count": 11,
   "id": "664f9a11",
   "metadata": {
    "ExecuteTime": {
     "end_time": "2021-09-09T15:19:02.377926Z",
     "start_time": "2021-09-09T15:19:02.278086Z"
    }
   },
   "outputs": [
    {
     "name": "stdout",
     "output_type": "stream",
     "text": [
      "====================================================================================================\n",
      "string 형태의 결과\n",
      "====================================================================================================\n",
      "@prefix schema: <http://schema.org/> .\n",
      "@prefix rs:    <http://joyhong.tistory.com/resource/> .\n",
      "@prefix ont:   <http://joyhong.tistory.com/ontology/> .\n",
      "@prefix xsd:   <http://www.w3.org/2001/XMLSchema#> .\n",
      "@prefix skos:  <http://www.w3.org/2004/02/skos/core#> .\n",
      "@prefix dcterms: <http://purl.org/dc/terms/> .\n",
      "@prefix rdfs:  <http://www.w3.org/2000/01/rdf-schema#> .\n",
      "@prefix foaf:  <http://xmlns.com/foaf/0.1/> .\n",
      "\n",
      "rs:h_16  a                       schema:Hospital ;\n",
      "        rdfs:label               \"삼성서울병원\" ;\n",
      "        ont:openedDate           \"1994-06-13\"^^xsd:date ;\n",
      "        ont:totalNumberOfDoctor  \"1399\" ;\n",
      "        dcterms:identifier       \"JDQ4MTg4MSM1MSMkMSMkMCMkODkkMzgxMzUxIzExIyQxIyQzIyQxMyQzNjEwMDIjODEjJDEjJDIjJDgz\" ;\n",
      "        dcterms:subject          rs:rg_110000 , rs:cat_1 , rs:rg_110001 ;\n",
      "        schema:geo               rs:geo_h16 ;\n",
      "        schema:telephone         \"02-3410-2114\" ;\n",
      "        foaf:homepage            <http://www.samsunghospital.com> ;\n",
      "        foaf:page                <http://www.hira.or.kr/re/diag/getDiagAmtInfo.do?ykiho=JDQ4MTg4MSM1MSMkMSMkMCMkODkkMzgxMzUxIzExIyQxIyQzIyQxMyQzNjEwMDIjODEjJDEjJDIjJDgz> .\n",
      "\n",
      "====================================================================================================\n",
      "turtle 직렬화 결과\n",
      "====================================================================================================\n",
      "@prefix dcterms: <http://purl.org/dc/terms/> .\n",
      "@prefix foaf: <http://xmlns.com/foaf/0.1/> .\n",
      "@prefix ont: <http://joyhong.tistory.com/ontology/> .\n",
      "@prefix rdfs: <http://www.w3.org/2000/01/rdf-schema#> .\n",
      "@prefix rs: <http://joyhong.tistory.com/resource/> .\n",
      "@prefix schema: <http://schema.org/> .\n",
      "@prefix xsd: <http://www.w3.org/2001/XMLSchema#> .\n",
      "\n",
      "rs:h_16 a schema:Hospital ;\n",
      "    rdfs:label \"삼성서울병원\" ;\n",
      "    ont:openedDate \"1994-06-13\"^^xsd:date ;\n",
      "    ont:totalNumberOfDoctor \"1399\" ;\n",
      "    dcterms:identifier \"JDQ4MTg4MSM1MSMkMSMkMCMkODkkMzgxMzUxIzExIyQxIyQzIyQxMyQzNjEwMDIjODEjJDEjJDIjJDgz\" ;\n",
      "    dcterms:subject rs:cat_1,\n",
      "        rs:rg_110000,\n",
      "        rs:rg_110001 ;\n",
      "    schema:geo rs:geo_h16 ;\n",
      "    schema:telephone \"02-3410-2114\" ;\n",
      "    foaf:homepage <http://www.samsunghospital.com> ;\n",
      "    foaf:page <http://www.hira.or.kr/re/diag/getDiagAmtInfo.do?ykiho=JDQ4MTg4MSM1MSMkMSMkMCMkODkkMzgxMzUxIzExIyQxIyQzIyQxMyQzNjEwMDIjODEjJDEjJDIjJDgz> .\n",
      "\n",
      "\n"
     ]
    }
   ],
   "source": [
    "from SPARQLWrapper import SPARQLWrapper, TURTLE\n",
    "from rdflib import Graph\n",
    "\n",
    "sparql = SPARQLWrapper(\"http://localhost:3030/publicdata/query\")\n",
    "\n",
    "sparql.setQuery(\"\"\"\n",
    "    DESCRIBE <http://joyhong.tistory.com/resource/h_16>\n",
    "\"\"\")\n",
    "\n",
    "sparql.setReturnFormat(TURTLE)\n",
    "sparql.setOnlyConneg(True)\n",
    "results = sparql.query().convert()\n",
    "print('='*100)\n",
    "print('string 형태의 결과')\n",
    "print('='*100)\n",
    "print(results.decode('utf-8'))\n",
    "print('='*100)\n",
    "print('turtle 직렬화 결과')\n",
    "print('='*100)\n",
    "# results는 string 으로 변환된 상태 이기 때문에 이를 Graph에 담아야 한다.\n",
    "g = Graph()\n",
    "g.parse(data=results, format=\"turtle\")\n",
    "print(g.serialize(format='turtle').decode('utf-8'))\n"
   ]
  },
  {
   "cell_type": "markdown",
   "id": "7e9e2080",
   "metadata": {},
   "source": [
    "Finish !!"
   ]
  }
 ],
 "metadata": {
  "kernelspec": {
   "display_name": "rdf",
   "language": "python",
   "name": "rdf"
  },
  "language_info": {
   "codemirror_mode": {
    "name": "ipython",
    "version": 3
   },
   "file_extension": ".py",
   "mimetype": "text/x-python",
   "name": "python",
   "nbconvert_exporter": "python",
   "pygments_lexer": "ipython3",
   "version": "3.8.5"
  },
  "toc": {
   "base_numbering": 1,
   "nav_menu": {},
   "number_sections": true,
   "sideBar": true,
   "skip_h1_title": false,
   "title_cell": "Table of Contents",
   "title_sidebar": "Contents",
   "toc_cell": false,
   "toc_position": {
    "height": "calc(100% - 180px)",
    "left": "10px",
    "top": "150px",
    "width": "344.59375px"
   },
   "toc_section_display": true,
   "toc_window_display": true
  }
 },
 "nbformat": 4,
 "nbformat_minor": 5
}
