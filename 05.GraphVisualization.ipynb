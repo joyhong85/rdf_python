{
 "cells": [
  {
   "cell_type": "markdown",
   "id": "f76965da",
   "metadata": {},
   "source": [
    "<center><span style=\"color:blue\"><font size=\"6\">Graph Visualization - Graph Notebook 활용편</font></span></center>  \n",
    "  \n",
    "<p><p>RDF 형태의 데이터는 주어-술어-목적어 이렇게 트리플 구조를 가지고 있기 때문에 이들을 연결하면 그래프 형태로 표현이 됩니다.<p>\n",
    "이러한 특징으로 인해 그래프 형태로 visualization이 가능한데, 그래프로 그리기 위한 여러가지 라이브러리들이 존재합니다.<p>\n",
    "그 중에서 간단하게 사용할 수 있는 graph-notebook 이라는 라이브러리가 있습니다.<p>\n",
    "graph-notebook은 그래프 데이터베이스에 질의하여 결과를 가져올 수 있는데 <p>\n",
    "SPARQL,Gremlin, Cypher 언어를 지원합니다. <p>\n",
    "이 중에서 우리는 RDF를 사용하기 때문에 SPARQL언어를 사용하여 SPARQL Endpoint에 질의하여 결과를 그래프로 표현해보도록 하겠습니다.<p>\n",
    "SPARQL은 로컬에 구성한 Endpoint로 질의를 하거나 다른 공개된 endpoint를 활용할 수 있습니다.<p>\n",
    "    \n",
    " - 사용하는 라이브러리  \n",
    "    graph-notebook  \n",
    "    (https://pypi.org/project/graph-notebook) <p>\n",
    " - 필수적으로 설치가 되어 있어야 하는 라이브러리\n",
    "    Tornado, RDFLib (보다 자세한 내용은 위 링크에서 확인하세요)\n",
    "\n",
    "<div align=\"right\">\n",
    "    작성자 : 허홍수<br>\n",
    "    e-mail : su4620@gmail.com<br>\n",
    "    blog : http://joyhong.tistory.com<br>\n",
    "</div>  "
   ]
  },
  {
   "cell_type": "markdown",
   "id": "66d5b808",
   "metadata": {},
   "source": [
    "# 설정"
   ]
  },
  {
   "cell_type": "markdown",
   "id": "c7b4a59e",
   "metadata": {},
   "source": [
    "제일 먼저 대상이 되는 endpoint 주소와 포트, 그리고 여러 정보를 설정합니다.  \n",
    "대상 endpoint 주소는 (제 기준)  \n",
    "http://localhost:3030/publicdata/query  입니다.  \n",
    "수정이 필요한 곳 (host, port, sparql:path)"
   ]
  },
  {
   "cell_type": "code",
   "execution_count": 1,
   "id": "45f8c5f3",
   "metadata": {
    "ExecuteTime": {
     "end_time": "2021-09-10T14:53:54.853685Z",
     "start_time": "2021-09-10T14:53:54.834049Z"
    }
   },
   "outputs": [
    {
     "name": "stdout",
     "output_type": "stream",
     "text": [
      "set notebook config to:\n",
      "{\n",
      "  \"host\": \"localhost\",\n",
      "  \"port\": 3030,\n",
      "  \"auth_mode\": \"DEFAULT\",\n",
      "  \"load_from_s3_arn\": \"\",\n",
      "  \"ssl\": false,\n",
      "  \"aws_region\": \"us-east-1\",\n",
      "  \"sparql\": {\n",
      "    \"path\": \"publicdata/query\"\n",
      "  }\n",
      "}\n"
     ]
    },
    {
     "data": {
      "text/plain": [
       "<graph_notebook.configuration.generate_config.Configuration at 0x7fa18098e190>"
      ]
     },
     "execution_count": 1,
     "metadata": {},
     "output_type": "execute_result"
    }
   ],
   "source": [
    "%%graph_notebook_config\n",
    "{\n",
    "    \"host\":\"localhost\",   \n",
    "    \"port\":3030,          \n",
    "    \"auth_mode\":\"DEFAULT\",\n",
    "    \"iam_credentials_provider_type\":\"ROLE\",\n",
    "    \"load_from_s3_arn\":\"\",\n",
    "    \"ssl\": false,\n",
    "    \"aws_region\":\"us-east-1\",\n",
    "    \"sparql\": {\n",
    "        \"path\": \"publicdata/query\"   \n",
    "    }\n",
    "}"
   ]
  },
  {
   "cell_type": "markdown",
   "id": "2f78714e",
   "metadata": {},
   "source": [
    "<b>쥬피터 화면을 넒게 쓰기 원하면 아래를 실행</b>"
   ]
  },
  {
   "cell_type": "code",
   "execution_count": null,
   "id": "52077815",
   "metadata": {},
   "outputs": [],
   "source": [
    "from IPython.core.display import display, HTML\n",
    "display(HTML(\"<style>.container { width:100% !important; }</style>\"))"
   ]
  },
  {
   "cell_type": "markdown",
   "id": "35f4a42a",
   "metadata": {},
   "source": [
    "# 질의"
   ]
  },
  {
   "cell_type": "code",
   "execution_count": 2,
   "id": "e7f480ef",
   "metadata": {
    "ExecuteTime": {
     "end_time": "2021-09-10T14:54:21.538104Z",
     "start_time": "2021-09-10T14:54:21.489912Z"
    }
   },
   "outputs": [
    {
     "data": {
      "application/vnd.jupyter.widget-view+json": {
       "model_id": "e355d368d57b46058cc95b958a4d777d",
       "version_major": 2,
       "version_minor": 0
      },
      "text/plain": [
       "Tab(children=(Output(layout=Layout(max_height='600px', overflow='scroll', width='100%')), Force(network=<graph…"
      ]
     },
     "metadata": {},
     "output_type": "display_data"
    }
   ],
   "source": [
    "%%sparql --expand-all \n",
    "select *\n",
    "where{\n",
    "    ?s ?p ?o.\n",
    "} LIMIT 30\n",
    "\n",
    "\n"
   ]
  },
  {
   "cell_type": "code",
   "execution_count": 3,
   "id": "fcba8cac",
   "metadata": {
    "ExecuteTime": {
     "end_time": "2021-09-10T14:54:47.655000Z",
     "start_time": "2021-09-10T14:54:47.600839Z"
    },
    "scrolled": false
   },
   "outputs": [
    {
     "data": {
      "application/vnd.jupyter.widget-view+json": {
       "model_id": "89a14fe550fb4aa594dcd346cb57ba78",
       "version_major": 2,
       "version_minor": 0
      },
      "text/plain": [
       "Tab(children=(Output(layout=Layout(max_height='600px', overflow='scroll', width='100%')), Force(network=<graph…"
      ]
     },
     "metadata": {},
     "output_type": "display_data"
    }
   ],
   "source": [
    "%%sparql --expand-all\n",
    "prefix rs:    <http://localhost/resource/> \n",
    "select *\n",
    "where{\n",
    "    {\n",
    "        filter(?s=<http://joyhong.tistory.com/resource/rg_220003>)\n",
    "        ?s ?p ?o.\n",
    "    } UNION {\n",
    "        filter(?o=<http://joyhong.tistory.com/resource/rg_220003>)\n",
    "        ?s ?p ?o.\n",
    "    }\n",
    "} LIMIT 30\n",
    "\n",
    "\n"
   ]
  },
  {
   "cell_type": "markdown",
   "id": "93abab00",
   "metadata": {},
   "source": [
    "# DBpedia 활용"
   ]
  },
  {
   "cell_type": "markdown",
   "id": "df8ed982",
   "metadata": {
    "ExecuteTime": {
     "end_time": "2021-09-10T14:48:58.089802Z",
     "start_time": "2021-09-10T14:48:58.087601Z"
    }
   },
   "source": [
    "## endpoint 설정"
   ]
  },
  {
   "cell_type": "code",
   "execution_count": 4,
   "id": "45f3d765",
   "metadata": {
    "ExecuteTime": {
     "end_time": "2021-09-10T14:54:55.482865Z",
     "start_time": "2021-09-10T14:54:55.473295Z"
    }
   },
   "outputs": [
    {
     "name": "stdout",
     "output_type": "stream",
     "text": [
      "set notebook config to:\n",
      "{\n",
      "  \"host\": \"dbpedia.org\",\n",
      "  \"port\": 443,\n",
      "  \"auth_mode\": \"DEFAULT\",\n",
      "  \"load_from_s3_arn\": \"\",\n",
      "  \"ssl\": true,\n",
      "  \"aws_region\": \"us-east-1\",\n",
      "  \"sparql\": {\n",
      "    \"path\": \"sparql\"\n",
      "  }\n",
      "}\n"
     ]
    },
    {
     "data": {
      "text/plain": [
       "<graph_notebook.configuration.generate_config.Configuration at 0x7fa182de97f0>"
      ]
     },
     "execution_count": 4,
     "metadata": {},
     "output_type": "execute_result"
    }
   ],
   "source": [
    "%%graph_notebook_config\n",
    "{\n",
    "    \"host\":\"dbpedia.org\",\n",
    "    \"port\":443,\n",
    "    \"auth_mode\":\"DEFAULT\",\n",
    "    \"iam_credentials_provider_type\":\"ROLE\",\n",
    "    \"load_from_s3_arn\":\"\",\n",
    "    \"ssl\": true,\n",
    "    \"aws_region\":\"us-east-1\"\n",
    "}"
   ]
  },
  {
   "cell_type": "markdown",
   "id": "d7b05be4",
   "metadata": {},
   "source": [
    "## 서울 출신 가수"
   ]
  },
  {
   "cell_type": "code",
   "execution_count": 5,
   "id": "0a6a9e04",
   "metadata": {
    "ExecuteTime": {
     "end_time": "2021-09-10T14:55:04.049307Z",
     "start_time": "2021-09-10T14:55:01.160992Z"
    }
   },
   "outputs": [
    {
     "data": {
      "application/vnd.jupyter.widget-view+json": {
       "model_id": "cf61d25967bd4b92b278da219ca4255d",
       "version_major": 2,
       "version_minor": 0
      },
      "text/plain": [
       "Tab(children=(Output(layout=Layout(max_height='600px', overflow='scroll', width='100%')), Force(network=<graph…"
      ]
     },
     "metadata": {},
     "output_type": "display_data"
    }
   ],
   "source": [
    "%%sparql --expand-all\n",
    "prefix dbo:    <http://dbpedia.org/ontology/> \n",
    "select ?s ?p ?o\n",
    "where{\n",
    "    ?s dct:subject <http://dbpedia.org/resource/Category:Singers_from_Seoul>.\n",
    "    ?s ?p ?o .\n",
    "    filter(?p!=rdf:type)\n",
    "} LIMIT 500\n",
    "\n",
    "\n"
   ]
  },
  {
   "cell_type": "markdown",
   "id": "c80ba0ae",
   "metadata": {},
   "source": [
    "## 아이유에 대한 정보"
   ]
  },
  {
   "cell_type": "code",
   "execution_count": 6,
   "id": "4f545300",
   "metadata": {
    "ExecuteTime": {
     "end_time": "2021-09-10T14:55:15.797814Z",
     "start_time": "2021-09-10T14:55:13.312918Z"
    },
    "scrolled": false
   },
   "outputs": [
    {
     "data": {
      "application/vnd.jupyter.widget-view+json": {
       "model_id": "d70fca26bd8e4339bab68f70fbcbed26",
       "version_major": 2,
       "version_minor": 0
      },
      "text/plain": [
       "Tab(children=(Output(layout=Layout(max_height='600px', overflow='scroll', width='100%')), Force(network=<graph…"
      ]
     },
     "metadata": {},
     "output_type": "display_data"
    }
   ],
   "source": [
    "%%sparql --expand-all\n",
    "\n",
    "SELECT * \n",
    "WHERE {\n",
    "    ?s ?p ?o.\n",
    "    FILTER(?s=<http://dbpedia.org/resource/IU_(singer)>)\n",
    "}\n"
   ]
  },
  {
   "cell_type": "markdown",
   "id": "5f2afafb",
   "metadata": {},
   "source": [
    "## 기타"
   ]
  },
  {
   "cell_type": "markdown",
   "id": "4ab05c99",
   "metadata": {},
   "source": [
    "원하는 SPARQL을 작성하고 결과를 받아올 수는 있지만 그래프로 표현되지 않는 형식일 때는 그래프 탭이 나타나지 않는다."
   ]
  },
  {
   "cell_type": "code",
   "execution_count": 7,
   "id": "ddc45247",
   "metadata": {
    "ExecuteTime": {
     "end_time": "2021-09-10T14:55:27.591790Z",
     "start_time": "2021-09-10T14:55:23.000708Z"
    }
   },
   "outputs": [
    {
     "data": {
      "application/vnd.jupyter.widget-view+json": {
       "model_id": "da66d9d92f224325ae9ba570c404dc7f",
       "version_major": 2,
       "version_minor": 0
      },
      "text/plain": [
       "Tab(children=(Output(layout=Layout(max_height='600px', overflow='scroll', width='100%')), Output(layout=Layout…"
      ]
     },
     "metadata": {},
     "output_type": "display_data"
    }
   ],
   "source": [
    "%%sparql --expand-all\n",
    "\n",
    "SELECT ?s ?label ?bdate (group_concat(?comt) as ?cmt) \n",
    "WHERE {\n",
    "    ?s dct:subject dbc:Singers_from_Seoul.\n",
    "    ?s rdfs:label ?label.\n",
    "    FILTER(lang(?label)='ko')\n",
    "    ?s dbo:birthDate ?bdate.\n",
    "    ?s rdfs:comment ?comt.\n",
    "} GROUP BY ?s ?label ?bdate\n",
    "LIMIT 100\n",
    "\n"
   ]
  },
  {
   "cell_type": "markdown",
   "id": "8fa606b6",
   "metadata": {},
   "source": [
    "Finish"
   ]
  }
 ],
 "metadata": {
  "kernelspec": {
   "display_name": "rdf",
   "language": "python",
   "name": "rdf"
  },
  "language_info": {
   "codemirror_mode": {
    "name": "ipython",
    "version": 3
   },
   "file_extension": ".py",
   "mimetype": "text/x-python",
   "name": "python",
   "nbconvert_exporter": "python",
   "pygments_lexer": "ipython3",
   "version": "3.8.5"
  },
  "toc": {
   "base_numbering": 1,
   "nav_menu": {},
   "number_sections": true,
   "sideBar": true,
   "skip_h1_title": false,
   "title_cell": "Table of Contents",
   "title_sidebar": "Contents",
   "toc_cell": false,
   "toc_position": {},
   "toc_section_display": true,
   "toc_window_display": false
  }
 },
 "nbformat": 4,
 "nbformat_minor": 5
}
